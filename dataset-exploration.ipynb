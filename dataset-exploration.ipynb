{
 "cells": [
  {
   "attachments": {},
   "cell_type": "markdown",
   "metadata": {
    "nterop": {
     "id": "1"
    }
   },
   "source": [
    "# Match Cutting\n",
    "### Dataset exploration\n",
    "We'll use some of the classes in the repo to read and analyze data."
   ]
  },
  {
   "cell_type": "code",
   "execution_count": 66,
   "metadata": {
    "nterop": {
     "id": "2"
    }
   },
   "outputs": [],
   "source": [
    "import json\n",
    "from typing import Set\n",
    "\n",
    "import pandas as pd\n",
    "\n",
    "from matchcut.data import Dataset"
   ]
  },
  {
   "attachments": {},
   "cell_type": "markdown",
   "metadata": {
    "nterop": {
     "id": "3"
    }
   },
   "source": [
    "### Title set"
   ]
  },
  {
   "cell_type": "code",
   "execution_count": 122,
   "metadata": {
    "nterop": {
     "id": "4"
    }
   },
   "outputs": [
    {
     "data": {
      "text/html": [
       "<div>\n",
       "<style scoped>\n",
       "    .dataframe tbody tr th:only-of-type {\n",
       "        vertical-align: middle;\n",
       "    }\n",
       "\n",
       "    .dataframe tbody tr th {\n",
       "        vertical-align: top;\n",
       "    }\n",
       "\n",
       "    .dataframe thead th {\n",
       "        text-align: right;\n",
       "    }\n",
       "</style>\n",
       "<table border=\"1\" class=\"dataframe\">\n",
       "  <thead>\n",
       "    <tr style=\"text-align: right;\">\n",
       "      <th></th>\n",
       "      <th>IMDB ID</th>\n",
       "      <th>title</th>\n",
       "      <th>genres</th>\n",
       "      <th>country</th>\n",
       "      <th>split</th>\n",
       "    </tr>\n",
       "  </thead>\n",
       "  <tbody>\n",
       "    <tr>\n",
       "      <th>0</th>\n",
       "      <td>tt0050706</td>\n",
       "      <td>Mon Oncle (1958)</td>\n",
       "      <td>Comedy</td>\n",
       "      <td>France</td>\n",
       "      <td>train</td>\n",
       "    </tr>\n",
       "    <tr>\n",
       "      <th>1</th>\n",
       "      <td>tt0059592</td>\n",
       "      <td>Pierrot le Fou (1965)</td>\n",
       "      <td>Crime, Drama, Romance</td>\n",
       "      <td>France</td>\n",
       "      <td>train</td>\n",
       "    </tr>\n",
       "    <tr>\n",
       "      <th>2</th>\n",
       "      <td>tt0061722</td>\n",
       "      <td>The Graduate (1967)</td>\n",
       "      <td>Comedy, Drama, Romance</td>\n",
       "      <td>USA</td>\n",
       "      <td>train</td>\n",
       "    </tr>\n",
       "    <tr>\n",
       "      <th>3</th>\n",
       "      <td>tt0061781</td>\n",
       "      <td>The Firemen's Ball (1967)</td>\n",
       "      <td>Comedy, Drama</td>\n",
       "      <td>Czechoslovakia</td>\n",
       "      <td>validation</td>\n",
       "    </tr>\n",
       "    <tr>\n",
       "      <th>4</th>\n",
       "      <td>tt0066921</td>\n",
       "      <td>A Clockwork Orange (1971)</td>\n",
       "      <td>Crime, Drama, Sci-Fi</td>\n",
       "      <td>UK</td>\n",
       "      <td>train</td>\n",
       "    </tr>\n",
       "    <tr>\n",
       "      <th>...</th>\n",
       "      <td>...</td>\n",
       "      <td>...</td>\n",
       "      <td>...</td>\n",
       "      <td>...</td>\n",
       "      <td>...</td>\n",
       "    </tr>\n",
       "    <tr>\n",
       "      <th>95</th>\n",
       "      <td>tt5827496</td>\n",
       "      <td>At Cafe 6 (2016)</td>\n",
       "      <td>Comedy, Romance</td>\n",
       "      <td>Taiwan</td>\n",
       "      <td>test</td>\n",
       "    </tr>\n",
       "    <tr>\n",
       "      <th>96</th>\n",
       "      <td>tt5866930</td>\n",
       "      <td>The Adventurers (2017)</td>\n",
       "      <td>Action, Adventure, Crime, Drama</td>\n",
       "      <td>China</td>\n",
       "      <td>validation</td>\n",
       "    </tr>\n",
       "    <tr>\n",
       "      <th>97</th>\n",
       "      <td>tt6157626</td>\n",
       "      <td>Legend of the Demon Cat (2017)</td>\n",
       "      <td>Drama, Fantasy, Horror, Mystery, Romance</td>\n",
       "      <td>China</td>\n",
       "      <td>validation</td>\n",
       "    </tr>\n",
       "    <tr>\n",
       "      <th>98</th>\n",
       "      <td>tt6298600</td>\n",
       "      <td>The Miracles of the Namiya General Store (2017)</td>\n",
       "      <td>Drama</td>\n",
       "      <td>Japan</td>\n",
       "      <td>train</td>\n",
       "    </tr>\n",
       "    <tr>\n",
       "      <th>99</th>\n",
       "      <td>tt6788942</td>\n",
       "      <td>Bad Genius (2017)</td>\n",
       "      <td>Comedy, Crime, Drama, Thriller</td>\n",
       "      <td>Thailand</td>\n",
       "      <td>train</td>\n",
       "    </tr>\n",
       "  </tbody>\n",
       "</table>\n",
       "<p>100 rows × 5 columns</p>\n",
       "</div>"
      ],
      "text/plain": [
       "      IMDB ID                                            title  \\\n",
       "0   tt0050706                                 Mon Oncle (1958)   \n",
       "1   tt0059592                            Pierrot le Fou (1965)   \n",
       "2   tt0061722                              The Graduate (1967)   \n",
       "3   tt0061781                        The Firemen's Ball (1967)   \n",
       "4   tt0066921                        A Clockwork Orange (1971)   \n",
       "..        ...                                              ...   \n",
       "95  tt5827496                                 At Cafe 6 (2016)   \n",
       "96  tt5866930                           The Adventurers (2017)   \n",
       "97  tt6157626                   Legend of the Demon Cat (2017)   \n",
       "98  tt6298600  The Miracles of the Namiya General Store (2017)   \n",
       "99  tt6788942                                Bad Genius (2017)   \n",
       "\n",
       "                                      genres         country       split  \n",
       "0                                     Comedy          France       train  \n",
       "1                      Crime, Drama, Romance          France       train  \n",
       "2                     Comedy, Drama, Romance             USA       train  \n",
       "3                              Comedy, Drama  Czechoslovakia  validation  \n",
       "4                       Crime, Drama, Sci-Fi              UK       train  \n",
       "..                                       ...             ...         ...  \n",
       "95                           Comedy, Romance          Taiwan        test  \n",
       "96           Action, Adventure, Crime, Drama           China  validation  \n",
       "97  Drama, Fantasy, Horror, Mystery, Romance           China  validation  \n",
       "98                                     Drama           Japan       train  \n",
       "99            Comedy, Crime, Drama, Thriller        Thailand       train  \n",
       "\n",
       "[100 rows x 5 columns]"
      ]
     },
     "execution_count": 122,
     "metadata": {
      "nterop": {
       "id": "145"
      }
     },
     "output_type": "execute_result"
    }
   ],
   "source": [
    "df_titles = pd.read_csv('data/imdb-title-set.csv')\n",
    "df_titles"
   ]
  },
  {
   "cell_type": "code",
   "execution_count": 69,
   "metadata": {
    "nterop": {
     "id": "79"
    }
   },
   "outputs": [
    {
     "data": {
      "image/png": "[encoded data removed]",
      "text/plain": [
       "<Figure size 432x288 with 1 Axes>"
      ]
     },
     "metadata": {
      "needs_background": "light",
      "nterop": {
       "id": "141"
      }
     },
     "output_type": "display_data"
    }
   ],
   "source": [
    "df_titles.genres.apply(lambda x: x.split(\", \")).explode().value_counts()[::-1].plot(kind='barh')\n",
    "_ = plt.xlabel(\"Number of titles\")"
   ]
  },
  {
   "cell_type": "code",
   "execution_count": 70,
   "metadata": {
    "nterop": {
     "id": "81"
    }
   },
   "outputs": [
    {
     "data": {
      "image/png": "[encoded data removed]",
      "text/plain": [
       "<Figure size 432x288 with 1 Axes>"
      ]
     },
     "metadata": {
      "needs_background": "light",
      "nterop": {
       "id": "142"
      }
     },
     "output_type": "display_data"
    }
   ],
   "source": [
    "_ = df_titles.country.value_counts()[::-1].plot(kind='barh')\n",
    "_ = plt.xlabel(\"Number of titles\")"
   ]
  },
  {
   "cell_type": "code",
   "execution_count": 71,
   "metadata": {
    "nterop": {
     "id": "83"
    }
   },
   "outputs": [
    {
     "data": {
      "text/plain": [
       "count     100.000000\n",
       "mean     2002.800000\n",
       "std        13.944334\n",
       "min      1958.000000\n",
       "25%      1996.500000\n",
       "50%      2008.000000\n",
       "75%      2013.000000\n",
       "max      2017.000000\n",
       "Name: 0, dtype: float64"
      ]
     },
     "execution_count": 71,
     "metadata": {
      "nterop": {
       "id": "143"
      }
     },
     "output_type": "execute_result"
    },
    {
     "data": {
      "image/png": "[encoded data removed]",
      "text/plain": [
       "<Figure size 432x288 with 1 Axes>"
      ]
     },
     "metadata": {
      "needs_background": "light",
      "nterop": {
       "id": "144"
      }
     },
     "output_type": "display_data"
    }
   ],
   "source": [
    "release_years = (\n",
    "    df_titles\n",
    "    .title\n",
    "    .str.extract(\"\\((\\d+)\\)\")[0]\n",
    "    .astype(int)\n",
    ")\n",
    "release_years.hist()\n",
    "_ = plt.xlabel('Year')\n",
    "_ = plt.ylabel(\"Number of titles\")\n",
    "release_years.describe()"
   ]
  },
  {
   "attachments": {},
   "cell_type": "markdown",
   "metadata": {
    "nterop": {
     "id": "6"
    }
   },
   "source": [
    "### get all paired data for a task"
   ]
  },
  {
   "cell_type": "code",
   "execution_count": 55,
   "metadata": {
    "nterop": {
     "id": "7"
    }
   },
   "outputs": [],
   "source": [
    "def get_df(task: str, source: str = None) -> pd.DataFrame:\n",
    "    \"\"\"\n",
    "    Read a dataframe where `task` is one of frame or motion.\n",
    "    if `source` is not provided all the data is returned,\n",
    "    if it is then the data is filtered down to the pairs\n",
    "    retrieved by one of the 4 heuristics.\n",
    "    \"\"\"\n",
    "    ds = Dataset(\n",
    "        task=task,\n",
    "        split=\"train\",  # ignored\n",
    "        encoder_name=None,\n",
    "        agg_name=None,\n",
    "        source=source,\n",
    "    )\n",
    "    return pd.DataFrame(p.__dict__ for p in ds.pairs_labeled_all)"
   ]
  },
  {
   "attachments": {},
   "cell_type": "markdown",
   "metadata": {
    "nterop": {
     "id": "8"
    }
   },
   "source": [
    "#### convert to a dataframe"
   ]
  },
  {
   "cell_type": "code",
   "execution_count": 56,
   "metadata": {
    "nterop": {
     "id": "9"
    }
   },
   "outputs": [],
   "source": [
    "df_frame = get_df('frame')\n",
    "df_motion = get_df('motion')\n",
    "df_h1 = get_df('frame', 'heuristic 1: faces')\n",
    "df_h2 = get_df('frame', 'heuristic 2: instance segmentation')\n",
    "df_h3 = get_df('motion', 'heuristic 3: Farneback')\n",
    "df_h4 = get_df('motion', 'heuristic 4: RAFT')"
   ]
  },
  {
   "cell_type": "code",
   "execution_count": 57,
   "metadata": {
    "nterop": {
     "id": "10"
    }
   },
   "outputs": [
    {
     "data": {
      "text/plain": [
       "9985"
      ]
     },
     "execution_count": 57,
     "metadata": {
      "nterop": {
       "id": "134"
      }
     },
     "output_type": "execute_result"
    }
   ],
   "source": [
    "len(df_frame)"
   ]
  },
  {
   "cell_type": "code",
   "execution_count": 58,
   "metadata": {
    "nterop": {
     "id": "12"
    }
   },
   "outputs": [
    {
     "data": {
      "text/plain": [
       "9320"
      ]
     },
     "execution_count": 58,
     "metadata": {
      "nterop": {
       "id": "135"
      }
     },
     "output_type": "execute_result"
    }
   ],
   "source": [
    "len(df_motion)"
   ]
  },
  {
   "cell_type": "code",
   "execution_count": null,
   "metadata": {
    "nterop": {
     "id": "136"
    }
   },
   "outputs": [],
   "source": [
    "len(get_unique_shots(df_frame))"
   ]
  },
  {
   "cell_type": "code",
   "execution_count": 62,
   "metadata": {
    "nterop": {
     "id": "137"
    }
   },
   "outputs": [
    {
     "data": {
      "text/plain": [
       "12993"
      ]
     },
     "execution_count": 62,
     "metadata": {
      "nterop": {
       "id": "138"
      }
     },
     "output_type": "execute_result"
    }
   ],
   "source": [
    "def get_unique_shots(df):\n",
    "    return set(x for _, r in df.iterrows() for x in ((r.imdb_id, r.shot1_idx), (r.imdb_id, r.shot2_idx)))\n",
    "\n",
    "len(get_unique_shots(df_frame) | get_unique_shots(df_motion))"
   ]
  },
  {
   "cell_type": "code",
   "execution_count": 72,
   "metadata": {
    "nterop": {
     "id": "14"
    }
   },
   "outputs": [
    {
     "data": {
      "text/html": [
       "<div>\n",
       "<style scoped>\n",
       "    .dataframe tbody tr th:only-of-type {\n",
       "        vertical-align: middle;\n",
       "    }\n",
       "\n",
       "    .dataframe tbody tr th {\n",
       "        vertical-align: top;\n",
       "    }\n",
       "\n",
       "    .dataframe thead th {\n",
       "        text-align: right;\n",
       "    }\n",
       "</style>\n",
       "<table border=\"1\" class=\"dataframe\">\n",
       "  <thead>\n",
       "    <tr style=\"text-align: right;\">\n",
       "      <th></th>\n",
       "      <th>imdb_id</th>\n",
       "      <th>shot1_idx</th>\n",
       "      <th>shot2_idx</th>\n",
       "      <th>label</th>\n",
       "      <th>source_info</th>\n",
       "    </tr>\n",
       "  </thead>\n",
       "  <tbody>\n",
       "    <tr>\n",
       "      <th>1789</th>\n",
       "      <td>tt2267998</td>\n",
       "      <td>582</td>\n",
       "      <td>1738</td>\n",
       "      <td>False</td>\n",
       "      <td>SourceInfo(sources_and_scores=(('heuristic 3: ...</td>\n",
       "    </tr>\n",
       "    <tr>\n",
       "      <th>1817</th>\n",
       "      <td>tt2267998</td>\n",
       "      <td>935</td>\n",
       "      <td>1146</td>\n",
       "      <td>False</td>\n",
       "      <td>SourceInfo(sources_and_scores=(('heuristic 4: ...</td>\n",
       "    </tr>\n",
       "    <tr>\n",
       "      <th>2285</th>\n",
       "      <td>tt0178868</td>\n",
       "      <td>195</td>\n",
       "      <td>349</td>\n",
       "      <td>False</td>\n",
       "      <td>SourceInfo(sources_and_scores=(('heuristic 3: ...</td>\n",
       "    </tr>\n",
       "    <tr>\n",
       "      <th>2017</th>\n",
       "      <td>tt3672840</td>\n",
       "      <td>1160</td>\n",
       "      <td>1565</td>\n",
       "      <td>False</td>\n",
       "      <td>SourceInfo(sources_and_scores=(('heuristic 4: ...</td>\n",
       "    </tr>\n",
       "    <tr>\n",
       "      <th>6153</th>\n",
       "      <td>tt0427954</td>\n",
       "      <td>238</td>\n",
       "      <td>1856</td>\n",
       "      <td>False</td>\n",
       "      <td>SourceInfo(sources_and_scores=(('heuristic 4: ...</td>\n",
       "    </tr>\n",
       "  </tbody>\n",
       "</table>\n",
       "</div>"
      ],
      "text/plain": [
       "        imdb_id  shot1_idx  shot2_idx  label  \\\n",
       "1789  tt2267998        582       1738  False   \n",
       "1817  tt2267998        935       1146  False   \n",
       "2285  tt0178868        195        349  False   \n",
       "2017  tt3672840       1160       1565  False   \n",
       "6153  tt0427954        238       1856  False   \n",
       "\n",
       "                                            source_info  \n",
       "1789  SourceInfo(sources_and_scores=(('heuristic 3: ...  \n",
       "1817  SourceInfo(sources_and_scores=(('heuristic 4: ...  \n",
       "2285  SourceInfo(sources_and_scores=(('heuristic 3: ...  \n",
       "2017  SourceInfo(sources_and_scores=(('heuristic 4: ...  \n",
       "6153  SourceInfo(sources_and_scores=(('heuristic 4: ...  "
      ]
     },
     "execution_count": 72,
     "metadata": {
      "nterop": {
       "id": "88"
      }
     },
     "output_type": "execute_result"
    }
   ],
   "source": [
    "df_motion.sample(5, random_state=0)"
   ]
  },
  {
   "attachments": {},
   "cell_type": "markdown",
   "metadata": {
    "nterop": {
     "id": "89"
    }
   },
   "source": [
    "### Dataset statistics"
   ]
  },
  {
   "cell_type": "code",
   "execution_count": 81,
   "metadata": {
    "nterop": {
     "id": "90"
    }
   },
   "outputs": [],
   "source": [
    "def get_stats(df: pd.DataFrame, task: str):\n",
    "    pairs = json.load(open(f\"data/dataset-{task}.json\"))\n",
    "    pa_cnt = pd.Series(\n",
    "        sum(pair[\"annotator_labels\"].values()) in (0, 3)\n",
    "        for pair in pairs\n",
    "    ).sum()\n",
    "    return {\n",
    "        \"Task\": task,\n",
    "        \"Annotated pairs\": len(df),\n",
    "        \"Positive pairs (majority label)\": df.label.sum(),\n",
    "        \"Positive rate\": df.label.mean(),\n",
    "        \"Perfect agreement pairs\": pa_cnt,\n",
    "        \"Perfect agreement\": pa_cnt / len(df),\n",
    "    }"
   ]
  },
  {
   "cell_type": "code",
   "execution_count": 82,
   "metadata": {
    "nterop": {
     "id": "91"
    }
   },
   "outputs": [
    {
     "data": {
      "text/html": [
       "<div>\n",
       "<style scoped>\n",
       "    .dataframe tbody tr th:only-of-type {\n",
       "        vertical-align: middle;\n",
       "    }\n",
       "\n",
       "    .dataframe tbody tr th {\n",
       "        vertical-align: top;\n",
       "    }\n",
       "\n",
       "    .dataframe thead th {\n",
       "        text-align: right;\n",
       "    }\n",
       "</style>\n",
       "<table border=\"1\" class=\"dataframe\">\n",
       "  <thead>\n",
       "    <tr style=\"text-align: right;\">\n",
       "      <th>Task</th>\n",
       "      <th>frame</th>\n",
       "      <th>motion</th>\n",
       "      <th>overall</th>\n",
       "    </tr>\n",
       "  </thead>\n",
       "  <tbody>\n",
       "    <tr>\n",
       "      <th>Annotated pairs</th>\n",
       "      <td>9985.000</td>\n",
       "      <td>9320.000</td>\n",
       "      <td>19305.000000</td>\n",
       "    </tr>\n",
       "    <tr>\n",
       "      <th>Positive pairs (majority label)</th>\n",
       "      <td>867.000</td>\n",
       "      <td>927.000</td>\n",
       "      <td>1794.000000</td>\n",
       "    </tr>\n",
       "    <tr>\n",
       "      <th>Positive rate</th>\n",
       "      <td>0.087</td>\n",
       "      <td>0.099</td>\n",
       "      <td>0.092929</td>\n",
       "    </tr>\n",
       "    <tr>\n",
       "      <th>Perfect agreement pairs</th>\n",
       "      <td>8373.000</td>\n",
       "      <td>7027.000</td>\n",
       "      <td>15400.000000</td>\n",
       "    </tr>\n",
       "    <tr>\n",
       "      <th>Perfect agreement</th>\n",
       "      <td>0.839</td>\n",
       "      <td>0.754</td>\n",
       "      <td>0.797721</td>\n",
       "    </tr>\n",
       "  </tbody>\n",
       "</table>\n",
       "</div>"
      ],
      "text/plain": [
       "Task                                frame    motion       overall\n",
       "Annotated pairs                  9985.000  9320.000  19305.000000\n",
       "Positive pairs (majority label)   867.000   927.000   1794.000000\n",
       "Positive rate                       0.087     0.099      0.092929\n",
       "Perfect agreement pairs          8373.000  7027.000  15400.000000\n",
       "Perfect agreement                   0.839     0.754      0.797721"
      ]
     },
     "execution_count": 82,
     "metadata": {
      "nterop": {
       "id": "146"
      }
     },
     "output_type": "execute_result"
    }
   ],
   "source": [
    "df_stats = pd.DataFrame([\n",
    "    get_stats(df_frame, \"frame\"),\n",
    "    get_stats(df_motion, \"motion\"),\n",
    "])\n",
    "df_stats = df_stats.set_index(\"Task\").transpose().round(3)\n",
    "df_stats = df_stats.assign(overall=df_stats.frame + df_stats.motion)\n",
    "df_stats.loc['Positive rate', 'overall'] = df_stats.loc['Positive pairs (majority label)', 'overall'] / df_stats.loc['Annotated pairs', 'overall']\n",
    "df_stats.loc['Perfect agreement', 'overall'] = df_stats.loc['Perfect agreement pairs', 'overall'] / df_stats.loc['Annotated pairs', 'overall']\n",
    "df_stats"
   ]
  },
  {
   "attachments": {},
   "cell_type": "markdown",
   "metadata": {
    "nterop": {
     "id": "16"
    }
   },
   "source": [
    "### heuristics"
   ]
  },
  {
   "cell_type": "code",
   "execution_count": 83,
   "metadata": {
    "nterop": {
     "id": "17"
    }
   },
   "outputs": [
    {
     "data": {
      "text/plain": [
       "0.08683024536805208"
      ]
     },
     "execution_count": 83,
     "metadata": {
      "nterop": {
       "id": "147"
      }
     },
     "output_type": "execute_result"
    }
   ],
   "source": [
    "df_frame.label.mean()"
   ]
  },
  {
   "cell_type": "code",
   "execution_count": 84,
   "metadata": {
    "nterop": {
     "id": "19"
    }
   },
   "outputs": [
    {
     "data": {
      "text/plain": [
       "0.09946351931330472"
      ]
     },
     "execution_count": 84,
     "metadata": {
      "nterop": {
       "id": "148"
      }
     },
     "output_type": "execute_result"
    }
   ],
   "source": [
    "df_motion.label.mean()"
   ]
  },
  {
   "cell_type": "code",
   "execution_count": 85,
   "metadata": {
    "nterop": {
     "id": "21"
    }
   },
   "outputs": [
    {
     "data": {
      "text/plain": [
       "0.0118"
      ]
     },
     "execution_count": 85,
     "metadata": {
      "nterop": {
       "id": "149"
      }
     },
     "output_type": "execute_result"
    }
   ],
   "source": [
    "df_h1.label.mean()"
   ]
  },
  {
   "cell_type": "code",
   "execution_count": 86,
   "metadata": {
    "nterop": {
     "id": "23"
    }
   },
   "outputs": [
    {
     "data": {
      "text/plain": [
       "0.1616"
      ]
     },
     "execution_count": 86,
     "metadata": {
      "nterop": {
       "id": "150"
      }
     },
     "output_type": "execute_result"
    }
   ],
   "source": [
    "df_h2.label.mean()"
   ]
  },
  {
   "cell_type": "code",
   "execution_count": 87,
   "metadata": {
    "nterop": {
     "id": "25"
    }
   },
   "outputs": [
    {
     "data": {
      "text/plain": [
       "0.1086"
      ]
     },
     "execution_count": 87,
     "metadata": {
      "nterop": {
       "id": "151"
      }
     },
     "output_type": "execute_result"
    }
   ],
   "source": [
    "df_h3.label.mean()"
   ]
  },
  {
   "cell_type": "code",
   "execution_count": 88,
   "metadata": {
    "nterop": {
     "id": "27"
    }
   },
   "outputs": [
    {
     "data": {
      "text/plain": [
       "0.0988"
      ]
     },
     "execution_count": 88,
     "metadata": {
      "nterop": {
       "id": "152"
      }
     },
     "output_type": "execute_result"
    }
   ],
   "source": [
    "df_h4.label.mean()"
   ]
  },
  {
   "attachments": {},
   "cell_type": "markdown",
   "metadata": {
    "nterop": {
     "id": "29"
    }
   },
   "source": [
    "### title-level positive rate"
   ]
  },
  {
   "cell_type": "code",
   "execution_count": 89,
   "metadata": {
    "nterop": {
     "id": "30"
    }
   },
   "outputs": [],
   "source": [
    "def title_level_positive_rate(df: pd.DataFrame) -> pd.Series:\n",
    "    return df.groupby('imdb_id').label.mean().describe()"
   ]
  },
  {
   "cell_type": "code",
   "execution_count": 90,
   "metadata": {
    "nterop": {
     "id": "31"
    }
   },
   "outputs": [
    {
     "data": {
      "text/plain": [
       "count    100.000000\n",
       "mean       0.086842\n",
       "std        0.060670\n",
       "min        0.000000\n",
       "25%        0.040000\n",
       "50%        0.070707\n",
       "75%        0.120000\n",
       "max        0.320000\n",
       "Name: label, dtype: float64"
      ]
     },
     "execution_count": 90,
     "metadata": {
      "nterop": {
       "id": "153"
      }
     },
     "output_type": "execute_result"
    }
   ],
   "source": [
    "title_level_positive_rate(df_frame)"
   ]
  },
  {
   "cell_type": "code",
   "execution_count": 91,
   "metadata": {
    "nterop": {
     "id": "33"
    }
   },
   "outputs": [
    {
     "data": {
      "text/plain": [
       "count    100.000000\n",
       "mean       0.100124\n",
       "std        0.074155\n",
       "min        0.000000\n",
       "25%        0.043276\n",
       "50%        0.081220\n",
       "75%        0.147883\n",
       "max        0.340659\n",
       "Name: label, dtype: float64"
      ]
     },
     "execution_count": 91,
     "metadata": {
      "nterop": {
       "id": "154"
      }
     },
     "output_type": "execute_result"
    }
   ],
   "source": [
    "title_level_positive_rate(df_motion)"
   ]
  },
  {
   "attachments": {},
   "cell_type": "markdown",
   "metadata": {
    "nterop": {
     "id": "35"
    }
   },
   "source": [
    "#### by heuristic"
   ]
  },
  {
   "cell_type": "code",
   "execution_count": 92,
   "metadata": {
    "nterop": {
     "id": "36"
    }
   },
   "outputs": [
    {
     "data": {
      "text/plain": [
       "count    100.000000\n",
       "mean       0.011800\n",
       "std        0.023285\n",
       "min        0.000000\n",
       "25%        0.000000\n",
       "50%        0.000000\n",
       "75%        0.020000\n",
       "max        0.120000\n",
       "Name: label, dtype: float64"
      ]
     },
     "execution_count": 92,
     "metadata": {
      "nterop": {
       "id": "155"
      }
     },
     "output_type": "execute_result"
    }
   ],
   "source": [
    "title_level_positive_rate(df_h1)"
   ]
  },
  {
   "cell_type": "code",
   "execution_count": 93,
   "metadata": {
    "nterop": {
     "id": "38"
    }
   },
   "outputs": [
    {
     "data": {
      "text/plain": [
       "count    100.000000\n",
       "mean       0.161600\n",
       "std        0.113944\n",
       "min        0.000000\n",
       "25%        0.080000\n",
       "50%        0.140000\n",
       "75%        0.220000\n",
       "max        0.580000\n",
       "Name: label, dtype: float64"
      ]
     },
     "execution_count": 93,
     "metadata": {
      "nterop": {
       "id": "156"
      }
     },
     "output_type": "execute_result"
    }
   ],
   "source": [
    "title_level_positive_rate(df_h2)"
   ]
  },
  {
   "cell_type": "code",
   "execution_count": 94,
   "metadata": {
    "nterop": {
     "id": "40"
    }
   },
   "outputs": [
    {
     "data": {
      "text/plain": [
       "count    100.0000\n",
       "mean       0.1086\n",
       "std        0.0860\n",
       "min        0.0000\n",
       "25%        0.0400\n",
       "50%        0.1000\n",
       "75%        0.1400\n",
       "max        0.3800\n",
       "Name: label, dtype: float64"
      ]
     },
     "execution_count": 94,
     "metadata": {
      "nterop": {
       "id": "157"
      }
     },
     "output_type": "execute_result"
    }
   ],
   "source": [
    "title_level_positive_rate(df_h3)"
   ]
  },
  {
   "cell_type": "code",
   "execution_count": 95,
   "metadata": {
    "nterop": {
     "id": "42"
    }
   },
   "outputs": [
    {
     "data": {
      "text/plain": [
       "count    100.000000\n",
       "mean       0.098800\n",
       "std        0.088435\n",
       "min        0.000000\n",
       "25%        0.040000\n",
       "50%        0.080000\n",
       "75%        0.140000\n",
       "max        0.380000\n",
       "Name: label, dtype: float64"
      ]
     },
     "execution_count": 95,
     "metadata": {
      "nterop": {
       "id": "158"
      }
     },
     "output_type": "execute_result"
    }
   ],
   "source": [
    "title_level_positive_rate(df_h4)"
   ]
  },
  {
   "attachments": {},
   "cell_type": "markdown",
   "metadata": {
    "nterop": {
     "id": "44"
    }
   },
   "source": [
    "### shot time ranges"
   ]
  },
  {
   "cell_type": "code",
   "execution_count": 96,
   "metadata": {
    "nterop": {
     "id": "45"
    }
   },
   "outputs": [
    {
     "data": {
      "text/html": [
       "<div>\n",
       "<style scoped>\n",
       "    .dataframe tbody tr th:only-of-type {\n",
       "        vertical-align: middle;\n",
       "    }\n",
       "\n",
       "    .dataframe tbody tr th {\n",
       "        vertical-align: top;\n",
       "    }\n",
       "\n",
       "    .dataframe thead th {\n",
       "        text-align: right;\n",
       "    }\n",
       "</style>\n",
       "<table border=\"1\" class=\"dataframe\">\n",
       "  <thead>\n",
       "    <tr style=\"text-align: right;\">\n",
       "      <th></th>\n",
       "      <th>imdb_id</th>\n",
       "      <th>shot_idx</th>\n",
       "      <th>start</th>\n",
       "      <th>end</th>\n",
       "    </tr>\n",
       "  </thead>\n",
       "  <tbody>\n",
       "    <tr>\n",
       "      <th>0</th>\n",
       "      <td>tt0050706</td>\n",
       "      <td>0</td>\n",
       "      <td>0.000000</td>\n",
       "      <td>27.583333</td>\n",
       "    </tr>\n",
       "    <tr>\n",
       "      <th>1</th>\n",
       "      <td>tt0050706</td>\n",
       "      <td>6</td>\n",
       "      <td>123.541667</td>\n",
       "      <td>137.916667</td>\n",
       "    </tr>\n",
       "    <tr>\n",
       "      <th>2</th>\n",
       "      <td>tt0050706</td>\n",
       "      <td>7</td>\n",
       "      <td>137.916667</td>\n",
       "      <td>152.958333</td>\n",
       "    </tr>\n",
       "  </tbody>\n",
       "</table>\n",
       "</div>"
      ],
      "text/plain": [
       "     imdb_id  shot_idx       start         end\n",
       "0  tt0050706         0    0.000000   27.583333\n",
       "1  tt0050706         6  123.541667  137.916667\n",
       "2  tt0050706         7  137.916667  152.958333"
      ]
     },
     "execution_count": 96,
     "metadata": {
      "nterop": {
       "id": "159"
      }
     },
     "output_type": "execute_result"
    }
   ],
   "source": [
    "df_time_ranges = pd.read_csv('data/shot-time-ranges.csv')\n",
    "df_time_ranges.head(3)"
   ]
  },
  {
   "cell_type": "code",
   "execution_count": 98,
   "metadata": {
    "nterop": {
     "id": "106"
    }
   },
   "outputs": [
    {
     "data": {
      "image/png": "[encoded data removed]",
      "text/plain": [
       "<Figure size 432x288 with 1 Axes>"
      ]
     },
     "metadata": {
      "needs_background": "light",
      "nterop": {
       "id": "160"
      }
     },
     "output_type": "display_data"
    }
   ],
   "source": [
    "df_time_ranges.groupby('imdb_id').size().hist()\n",
    "_ = plt.xlabel('Number of unique shots')\n",
    "_ = plt.ylabel('Number of titles')"
   ]
  },
  {
   "attachments": {},
   "cell_type": "markdown",
   "metadata": {
    "nterop": {
     "id": "109"
    }
   },
   "source": [
    "##### shot duration stats"
   ]
  },
  {
   "cell_type": "code",
   "execution_count": 99,
   "metadata": {
    "nterop": {
     "id": "110"
    }
   },
   "outputs": [
    {
     "data": {
      "text/plain": [
       "count    21205.000000\n",
       "mean         8.173633\n",
       "std         15.135620\n",
       "min          0.240000\n",
       "25%          2.083333\n",
       "50%          3.878875\n",
       "75%          8.091416\n",
       "max        384.500000\n",
       "Name: duration, dtype: float64"
      ]
     },
     "execution_count": 99,
     "metadata": {
      "nterop": {
       "id": "161"
      }
     },
     "output_type": "execute_result"
    }
   ],
   "source": [
    "df_time_ranges_duration = df_time_ranges.assign(duration=df_time_ranges.end - df_time_ranges.start)\n",
    "df_time_ranges_duration = df_time_ranges_duration.merge(df_titles.rename(columns={\"IMDB ID\": \"imdb_id\"}))\n",
    "df_time_ranges_duration.duration.describe()"
   ]
  },
  {
   "cell_type": "code",
   "execution_count": 100,
   "metadata": {
    "nterop": {
     "id": "112"
    }
   },
   "outputs": [
    {
     "data": {
      "image/png": "[encoded data removed]",
      "text/plain": [
       "<Figure size 864x576 with 1 Axes>"
      ]
     },
     "metadata": {
      "needs_background": "light",
      "nterop": {
       "id": "162"
      }
     },
     "output_type": "display_data"
    }
   ],
   "source": [
    "(\n",
    "    df_time_ranges_duration\n",
    "    .assign(genre=df_time_ranges_duration.genres.str.split(\", \")).explode(\"genre\")\n",
    "    .boxplot(column=\"duration\", by=\"genre\", vert=False, figsize=(12, 8))\n",
    ")\n",
    "plt.title('Shot duration distribution by genre')\n",
    "plt.suptitle('')\n",
    "_ = plt.xlabel('Shot duration in seconds')"
   ]
  },
  {
   "attachments": {},
   "cell_type": "markdown",
   "metadata": {
    "nterop": {
     "id": "47"
    }
   },
   "source": [
    "#### merge to get time ranges for pairs"
   ]
  },
  {
   "cell_type": "code",
   "execution_count": 101,
   "metadata": {
    "nterop": {
     "id": "48"
    }
   },
   "outputs": [],
   "source": [
    "def merge_time_ranges(df: pd.DataFrame, nbr: int) -> pd.DataFrame:\n",
    "    \"\"\"\n",
    "    `df` to append time ranges (start and end time).\n",
    "    `nbr` is either 1 or 2.\n",
    "    \"\"\"\n",
    "    return df.merge(\n",
    "        df_time_ranges.add_prefix(f\"shot{nbr}_\"),\n",
    "        left_on=['imdb_id', f'shot{nbr}_idx'],\n",
    "        right_on=[f'shot{nbr}_imdb_id', f'shot{nbr}_shot_idx'],\n",
    "    ).drop(columns=[f'shot{nbr}_shot_idx', f'shot{nbr}_imdb_id'])\n",
    "\n",
    "\n",
    "def add_time_ranges(df: pd.DataFrame) -> pd.DataFrame:\n",
    "    return merge_time_ranges(merge_time_ranges(df, 1), 2)"
   ]
  },
  {
   "cell_type": "code",
   "execution_count": 102,
   "metadata": {
    "nterop": {
     "id": "49"
    }
   },
   "outputs": [
    {
     "data": {
      "text/html": [
       "<div>\n",
       "<style scoped>\n",
       "    .dataframe tbody tr th:only-of-type {\n",
       "        vertical-align: middle;\n",
       "    }\n",
       "\n",
       "    .dataframe tbody tr th {\n",
       "        vertical-align: top;\n",
       "    }\n",
       "\n",
       "    .dataframe thead th {\n",
       "        text-align: right;\n",
       "    }\n",
       "</style>\n",
       "<table border=\"1\" class=\"dataframe\">\n",
       "  <thead>\n",
       "    <tr style=\"text-align: right;\">\n",
       "      <th></th>\n",
       "      <th>imdb_id</th>\n",
       "      <th>shot1_idx</th>\n",
       "      <th>shot2_idx</th>\n",
       "      <th>label</th>\n",
       "      <th>source_info</th>\n",
       "      <th>shot1_start</th>\n",
       "      <th>shot1_end</th>\n",
       "      <th>shot2_start</th>\n",
       "      <th>shot2_end</th>\n",
       "    </tr>\n",
       "  </thead>\n",
       "  <tbody>\n",
       "    <tr>\n",
       "      <th>0</th>\n",
       "      <td>tt0118799</td>\n",
       "      <td>6</td>\n",
       "      <td>92</td>\n",
       "      <td>False</td>\n",
       "      <td>SourceInfo(sources_and_scores=(('heuristic 3: ...</td>\n",
       "      <td>91.716623</td>\n",
       "      <td>103.019581</td>\n",
       "      <td>470.595112</td>\n",
       "      <td>476.225737</td>\n",
       "    </tr>\n",
       "    <tr>\n",
       "      <th>1</th>\n",
       "      <td>tt0118799</td>\n",
       "      <td>6</td>\n",
       "      <td>112</td>\n",
       "      <td>False</td>\n",
       "      <td>SourceInfo(sources_and_scores=(('heuristic 3: ...</td>\n",
       "      <td>91.716623</td>\n",
       "      <td>103.019581</td>\n",
       "      <td>608.941650</td>\n",
       "      <td>613.988358</td>\n",
       "    </tr>\n",
       "    <tr>\n",
       "      <th>2</th>\n",
       "      <td>tt0118799</td>\n",
       "      <td>6</td>\n",
       "      <td>294</td>\n",
       "      <td>False</td>\n",
       "      <td>SourceInfo(sources_and_scores=(('heuristic 3: ...</td>\n",
       "      <td>91.716623</td>\n",
       "      <td>103.019581</td>\n",
       "      <td>1502.959751</td>\n",
       "      <td>1506.546667</td>\n",
       "    </tr>\n",
       "    <tr>\n",
       "      <th>3</th>\n",
       "      <td>tt0118799</td>\n",
       "      <td>6</td>\n",
       "      <td>500</td>\n",
       "      <td>True</td>\n",
       "      <td>SourceInfo(sources_and_scores=(('heuristic 3: ...</td>\n",
       "      <td>91.716623</td>\n",
       "      <td>103.019581</td>\n",
       "      <td>2482.521641</td>\n",
       "      <td>2492.323099</td>\n",
       "    </tr>\n",
       "    <tr>\n",
       "      <th>4</th>\n",
       "      <td>tt0118799</td>\n",
       "      <td>6</td>\n",
       "      <td>530</td>\n",
       "      <td>False</td>\n",
       "      <td>SourceInfo(sources_and_scores=(('heuristic 3: ...</td>\n",
       "      <td>91.716623</td>\n",
       "      <td>103.019581</td>\n",
       "      <td>2677.132719</td>\n",
       "      <td>2679.510094</td>\n",
       "    </tr>\n",
       "    <tr>\n",
       "      <th>...</th>\n",
       "      <td>...</td>\n",
       "      <td>...</td>\n",
       "      <td>...</td>\n",
       "      <td>...</td>\n",
       "      <td>...</td>\n",
       "      <td>...</td>\n",
       "      <td>...</td>\n",
       "      <td>...</td>\n",
       "      <td>...</td>\n",
       "    </tr>\n",
       "    <tr>\n",
       "      <th>9315</th>\n",
       "      <td>tt6788942</td>\n",
       "      <td>1089</td>\n",
       "      <td>1193</td>\n",
       "      <td>False</td>\n",
       "      <td>SourceInfo(sources_and_scores=(('heuristic 4: ...</td>\n",
       "      <td>4961.250000</td>\n",
       "      <td>4965.250000</td>\n",
       "      <td>5320.583333</td>\n",
       "      <td>5321.333333</td>\n",
       "    </tr>\n",
       "    <tr>\n",
       "      <th>9316</th>\n",
       "      <td>tt6788942</td>\n",
       "      <td>1089</td>\n",
       "      <td>1380</td>\n",
       "      <td>False</td>\n",
       "      <td>SourceInfo(sources_and_scores=(('heuristic 4: ...</td>\n",
       "      <td>4961.250000</td>\n",
       "      <td>4965.250000</td>\n",
       "      <td>5861.666667</td>\n",
       "      <td>5865.750000</td>\n",
       "    </tr>\n",
       "    <tr>\n",
       "      <th>9317</th>\n",
       "      <td>tt6788942</td>\n",
       "      <td>1203</td>\n",
       "      <td>1380</td>\n",
       "      <td>False</td>\n",
       "      <td>SourceInfo(sources_and_scores=(('heuristic 4: ...</td>\n",
       "      <td>5337.458333</td>\n",
       "      <td>5341.750000</td>\n",
       "      <td>5861.666667</td>\n",
       "      <td>5865.750000</td>\n",
       "    </tr>\n",
       "    <tr>\n",
       "      <th>9318</th>\n",
       "      <td>tt6788942</td>\n",
       "      <td>1089</td>\n",
       "      <td>1426</td>\n",
       "      <td>False</td>\n",
       "      <td>SourceInfo(sources_and_scores=(('heuristic 4: ...</td>\n",
       "      <td>4961.250000</td>\n",
       "      <td>4965.250000</td>\n",
       "      <td>6035.458333</td>\n",
       "      <td>6039.625000</td>\n",
       "    </tr>\n",
       "    <tr>\n",
       "      <th>9319</th>\n",
       "      <td>tt6788942</td>\n",
       "      <td>1203</td>\n",
       "      <td>1426</td>\n",
       "      <td>False</td>\n",
       "      <td>SourceInfo(sources_and_scores=(('heuristic 4: ...</td>\n",
       "      <td>5337.458333</td>\n",
       "      <td>5341.750000</td>\n",
       "      <td>6035.458333</td>\n",
       "      <td>6039.625000</td>\n",
       "    </tr>\n",
       "  </tbody>\n",
       "</table>\n",
       "<p>9320 rows × 9 columns</p>\n",
       "</div>"
      ],
      "text/plain": [
       "        imdb_id  shot1_idx  shot2_idx  label  \\\n",
       "0     tt0118799          6         92  False   \n",
       "1     tt0118799          6        112  False   \n",
       "2     tt0118799          6        294  False   \n",
       "3     tt0118799          6        500   True   \n",
       "4     tt0118799          6        530  False   \n",
       "...         ...        ...        ...    ...   \n",
       "9315  tt6788942       1089       1193  False   \n",
       "9316  tt6788942       1089       1380  False   \n",
       "9317  tt6788942       1203       1380  False   \n",
       "9318  tt6788942       1089       1426  False   \n",
       "9319  tt6788942       1203       1426  False   \n",
       "\n",
       "                                            source_info  shot1_start  \\\n",
       "0     SourceInfo(sources_and_scores=(('heuristic 3: ...    91.716623   \n",
       "1     SourceInfo(sources_and_scores=(('heuristic 3: ...    91.716623   \n",
       "2     SourceInfo(sources_and_scores=(('heuristic 3: ...    91.716623   \n",
       "3     SourceInfo(sources_and_scores=(('heuristic 3: ...    91.716623   \n",
       "4     SourceInfo(sources_and_scores=(('heuristic 3: ...    91.716623   \n",
       "...                                                 ...          ...   \n",
       "9315  SourceInfo(sources_and_scores=(('heuristic 4: ...  4961.250000   \n",
       "9316  SourceInfo(sources_and_scores=(('heuristic 4: ...  4961.250000   \n",
       "9317  SourceInfo(sources_and_scores=(('heuristic 4: ...  5337.458333   \n",
       "9318  SourceInfo(sources_and_scores=(('heuristic 4: ...  4961.250000   \n",
       "9319  SourceInfo(sources_and_scores=(('heuristic 4: ...  5337.458333   \n",
       "\n",
       "        shot1_end  shot2_start    shot2_end  \n",
       "0      103.019581   470.595112   476.225737  \n",
       "1      103.019581   608.941650   613.988358  \n",
       "2      103.019581  1502.959751  1506.546667  \n",
       "3      103.019581  2482.521641  2492.323099  \n",
       "4      103.019581  2677.132719  2679.510094  \n",
       "...           ...          ...          ...  \n",
       "9315  4965.250000  5320.583333  5321.333333  \n",
       "9316  4965.250000  5861.666667  5865.750000  \n",
       "9317  5341.750000  5861.666667  5865.750000  \n",
       "9318  4965.250000  6035.458333  6039.625000  \n",
       "9319  5341.750000  6035.458333  6039.625000  \n",
       "\n",
       "[9320 rows x 9 columns]"
      ]
     },
     "execution_count": 102,
     "metadata": {
      "nterop": {
       "id": "163"
      }
     },
     "output_type": "execute_result"
    }
   ],
   "source": [
    "add_time_ranges(df_motion)"
   ]
  },
  {
   "attachments": {},
   "cell_type": "markdown",
   "metadata": {
    "nterop": {
     "id": "51"
    }
   },
   "source": [
    "### splits"
   ]
  },
  {
   "cell_type": "code",
   "execution_count": 103,
   "metadata": {
    "nterop": {
     "id": "52"
    }
   },
   "outputs": [],
   "source": [
    "def get_split_ids(split: str) -> Set[str]:\n",
    "    return Dataset(split, \"frame\", None, None).imdb_ids"
   ]
  },
  {
   "cell_type": "code",
   "execution_count": 104,
   "metadata": {
    "nterop": {
     "id": "53"
    }
   },
   "outputs": [],
   "source": [
    "splits = (\"train\", \"validation\", \"test\")"
   ]
  },
  {
   "cell_type": "code",
   "execution_count": 105,
   "metadata": {
    "nterop": {
     "id": "54"
    }
   },
   "outputs": [],
   "source": [
    "split_ids = {s: get_split_ids(s) for s in splits}"
   ]
  },
  {
   "cell_type": "code",
   "execution_count": 106,
   "metadata": {
    "nterop": {
     "id": "55"
    }
   },
   "outputs": [
    {
     "data": {
      "text/plain": [
       "dict_keys(['train', 'validation', 'test'])"
      ]
     },
     "execution_count": 106,
     "metadata": {
      "nterop": {
       "id": "164"
      }
     },
     "output_type": "execute_result"
    }
   ],
   "source": [
    "split_ids.keys()"
   ]
  },
  {
   "cell_type": "code",
   "execution_count": 107,
   "metadata": {
    "nterop": {
     "id": "57"
    }
   },
   "outputs": [
    {
     "data": {
      "text/plain": [
       "{'tt0081505',\n",
       " 'tt0090257',\n",
       " 'tt0092603',\n",
       " 'tt0101700',\n",
       " 'tt0108656',\n",
       " 'tt0118799',\n",
       " 'tt0118845',\n",
       " 'tt0133093',\n",
       " 'tt0208092',\n",
       " 'tt0250494',\n",
       " 'tt0266697',\n",
       " 'tt0457430',\n",
       " 'tt0940709',\n",
       " 'tt0993846',\n",
       " 'tt1602620',\n",
       " 'tt2258281',\n",
       " 'tt3508840',\n",
       " 'tt3672840',\n",
       " 'tt5580036',\n",
       " 'tt5827496'}"
      ]
     },
     "execution_count": 107,
     "metadata": {
      "nterop": {
       "id": "165"
      }
     },
     "output_type": "execute_result"
    }
   ],
   "source": [
    "split_ids['test']"
   ]
  },
  {
   "attachments": {},
   "cell_type": "markdown",
   "metadata": {
    "nterop": {
     "id": "59"
    }
   },
   "source": [
    "#### filter by split"
   ]
  },
  {
   "cell_type": "code",
   "execution_count": 108,
   "metadata": {
    "nterop": {
     "id": "60"
    }
   },
   "outputs": [
    {
     "data": {
      "text/html": [
       "<div>\n",
       "<style scoped>\n",
       "    .dataframe tbody tr th:only-of-type {\n",
       "        vertical-align: middle;\n",
       "    }\n",
       "\n",
       "    .dataframe tbody tr th {\n",
       "        vertical-align: top;\n",
       "    }\n",
       "\n",
       "    .dataframe thead th {\n",
       "        text-align: right;\n",
       "    }\n",
       "</style>\n",
       "<table border=\"1\" class=\"dataframe\">\n",
       "  <thead>\n",
       "    <tr style=\"text-align: right;\">\n",
       "      <th></th>\n",
       "      <th>imdb_id</th>\n",
       "      <th>shot1_idx</th>\n",
       "      <th>shot2_idx</th>\n",
       "      <th>label</th>\n",
       "      <th>source_info</th>\n",
       "    </tr>\n",
       "  </thead>\n",
       "  <tbody>\n",
       "    <tr>\n",
       "      <th>265</th>\n",
       "      <td>tt1560747</td>\n",
       "      <td>2</td>\n",
       "      <td>139</td>\n",
       "      <td>False</td>\n",
       "      <td>SourceInfo(sources_and_scores=(('heuristic 3: ...</td>\n",
       "    </tr>\n",
       "    <tr>\n",
       "      <th>266</th>\n",
       "      <td>tt1560747</td>\n",
       "      <td>2</td>\n",
       "      <td>166</td>\n",
       "      <td>False</td>\n",
       "      <td>SourceInfo(sources_and_scores=(('heuristic 3: ...</td>\n",
       "    </tr>\n",
       "    <tr>\n",
       "      <th>267</th>\n",
       "      <td>tt1560747</td>\n",
       "      <td>2</td>\n",
       "      <td>402</td>\n",
       "      <td>False</td>\n",
       "      <td>SourceInfo(sources_and_scores=(('heuristic 3: ...</td>\n",
       "    </tr>\n",
       "    <tr>\n",
       "      <th>268</th>\n",
       "      <td>tt1560747</td>\n",
       "      <td>49</td>\n",
       "      <td>54</td>\n",
       "      <td>False</td>\n",
       "      <td>SourceInfo(sources_and_scores=(('heuristic 4: ...</td>\n",
       "    </tr>\n",
       "    <tr>\n",
       "      <th>269</th>\n",
       "      <td>tt1560747</td>\n",
       "      <td>54</td>\n",
       "      <td>61</td>\n",
       "      <td>False</td>\n",
       "      <td>SourceInfo(sources_and_scores=(('heuristic 4: ...</td>\n",
       "    </tr>\n",
       "    <tr>\n",
       "      <th>...</th>\n",
       "      <td>...</td>\n",
       "      <td>...</td>\n",
       "      <td>...</td>\n",
       "      <td>...</td>\n",
       "      <td>...</td>\n",
       "    </tr>\n",
       "    <tr>\n",
       "      <th>9315</th>\n",
       "      <td>tt6788942</td>\n",
       "      <td>1203</td>\n",
       "      <td>1426</td>\n",
       "      <td>False</td>\n",
       "      <td>SourceInfo(sources_and_scores=(('heuristic 4: ...</td>\n",
       "    </tr>\n",
       "    <tr>\n",
       "      <th>9316</th>\n",
       "      <td>tt6788942</td>\n",
       "      <td>1206</td>\n",
       "      <td>1367</td>\n",
       "      <td>False</td>\n",
       "      <td>SourceInfo(sources_and_scores=(('heuristic 4: ...</td>\n",
       "    </tr>\n",
       "    <tr>\n",
       "      <th>9317</th>\n",
       "      <td>tt6788942</td>\n",
       "      <td>1367</td>\n",
       "      <td>1505</td>\n",
       "      <td>False</td>\n",
       "      <td>SourceInfo(sources_and_scores=(('heuristic 4: ...</td>\n",
       "    </tr>\n",
       "    <tr>\n",
       "      <th>9318</th>\n",
       "      <td>tt6788942</td>\n",
       "      <td>1367</td>\n",
       "      <td>1558</td>\n",
       "      <td>False</td>\n",
       "      <td>SourceInfo(sources_and_scores=(('heuristic 4: ...</td>\n",
       "    </tr>\n",
       "    <tr>\n",
       "      <th>9319</th>\n",
       "      <td>tt6788942</td>\n",
       "      <td>1367</td>\n",
       "      <td>1721</td>\n",
       "      <td>False</td>\n",
       "      <td>SourceInfo(sources_and_scores=(('heuristic 4: ...</td>\n",
       "    </tr>\n",
       "  </tbody>\n",
       "</table>\n",
       "<p>5594 rows × 5 columns</p>\n",
       "</div>"
      ],
      "text/plain": [
       "        imdb_id  shot1_idx  shot2_idx  label  \\\n",
       "265   tt1560747          2        139  False   \n",
       "266   tt1560747          2        166  False   \n",
       "267   tt1560747          2        402  False   \n",
       "268   tt1560747         49         54  False   \n",
       "269   tt1560747         54         61  False   \n",
       "...         ...        ...        ...    ...   \n",
       "9315  tt6788942       1203       1426  False   \n",
       "9316  tt6788942       1206       1367  False   \n",
       "9317  tt6788942       1367       1505  False   \n",
       "9318  tt6788942       1367       1558  False   \n",
       "9319  tt6788942       1367       1721  False   \n",
       "\n",
       "                                            source_info  \n",
       "265   SourceInfo(sources_and_scores=(('heuristic 3: ...  \n",
       "266   SourceInfo(sources_and_scores=(('heuristic 3: ...  \n",
       "267   SourceInfo(sources_and_scores=(('heuristic 3: ...  \n",
       "268   SourceInfo(sources_and_scores=(('heuristic 4: ...  \n",
       "269   SourceInfo(sources_and_scores=(('heuristic 4: ...  \n",
       "...                                                 ...  \n",
       "9315  SourceInfo(sources_and_scores=(('heuristic 4: ...  \n",
       "9316  SourceInfo(sources_and_scores=(('heuristic 4: ...  \n",
       "9317  SourceInfo(sources_and_scores=(('heuristic 4: ...  \n",
       "9318  SourceInfo(sources_and_scores=(('heuristic 4: ...  \n",
       "9319  SourceInfo(sources_and_scores=(('heuristic 4: ...  \n",
       "\n",
       "[5594 rows x 5 columns]"
      ]
     },
     "execution_count": 108,
     "metadata": {
      "nterop": {
       "id": "166"
      }
     },
     "output_type": "execute_result"
    }
   ],
   "source": [
    "df_motion[df_motion.imdb_id.isin(split_ids['train'])]"
   ]
  },
  {
   "attachments": {},
   "cell_type": "markdown",
   "metadata": {
    "nterop": {
     "id": "62"
    }
   },
   "source": [
    "#### append split to each row"
   ]
  },
  {
   "cell_type": "code",
   "execution_count": 109,
   "metadata": {
    "nterop": {
     "id": "63"
    }
   },
   "outputs": [],
   "source": [
    "id_to_split = {imdb_id: s for s, ids in split_ids.items() for imdb_id in ids}"
   ]
  },
  {
   "cell_type": "code",
   "execution_count": 110,
   "metadata": {
    "nterop": {
     "id": "64"
    }
   },
   "outputs": [
    {
     "data": {
      "text/html": [
       "<div>\n",
       "<style scoped>\n",
       "    .dataframe tbody tr th:only-of-type {\n",
       "        vertical-align: middle;\n",
       "    }\n",
       "\n",
       "    .dataframe tbody tr th {\n",
       "        vertical-align: top;\n",
       "    }\n",
       "\n",
       "    .dataframe thead th {\n",
       "        text-align: right;\n",
       "    }\n",
       "</style>\n",
       "<table border=\"1\" class=\"dataframe\">\n",
       "  <thead>\n",
       "    <tr style=\"text-align: right;\">\n",
       "      <th></th>\n",
       "      <th>imdb_id</th>\n",
       "      <th>shot1_idx</th>\n",
       "      <th>shot2_idx</th>\n",
       "      <th>label</th>\n",
       "      <th>source_info</th>\n",
       "      <th>split</th>\n",
       "    </tr>\n",
       "  </thead>\n",
       "  <tbody>\n",
       "    <tr>\n",
       "      <th>0</th>\n",
       "      <td>tt0118799</td>\n",
       "      <td>6</td>\n",
       "      <td>92</td>\n",
       "      <td>False</td>\n",
       "      <td>SourceInfo(sources_and_scores=(('heuristic 3: ...</td>\n",
       "      <td>test</td>\n",
       "    </tr>\n",
       "    <tr>\n",
       "      <th>1</th>\n",
       "      <td>tt0118799</td>\n",
       "      <td>6</td>\n",
       "      <td>112</td>\n",
       "      <td>False</td>\n",
       "      <td>SourceInfo(sources_and_scores=(('heuristic 3: ...</td>\n",
       "      <td>test</td>\n",
       "    </tr>\n",
       "    <tr>\n",
       "      <th>2</th>\n",
       "      <td>tt0118799</td>\n",
       "      <td>6</td>\n",
       "      <td>294</td>\n",
       "      <td>False</td>\n",
       "      <td>SourceInfo(sources_and_scores=(('heuristic 3: ...</td>\n",
       "      <td>test</td>\n",
       "    </tr>\n",
       "    <tr>\n",
       "      <th>3</th>\n",
       "      <td>tt0118799</td>\n",
       "      <td>6</td>\n",
       "      <td>500</td>\n",
       "      <td>True</td>\n",
       "      <td>SourceInfo(sources_and_scores=(('heuristic 3: ...</td>\n",
       "      <td>test</td>\n",
       "    </tr>\n",
       "    <tr>\n",
       "      <th>4</th>\n",
       "      <td>tt0118799</td>\n",
       "      <td>6</td>\n",
       "      <td>530</td>\n",
       "      <td>False</td>\n",
       "      <td>SourceInfo(sources_and_scores=(('heuristic 3: ...</td>\n",
       "      <td>test</td>\n",
       "    </tr>\n",
       "    <tr>\n",
       "      <th>...</th>\n",
       "      <td>...</td>\n",
       "      <td>...</td>\n",
       "      <td>...</td>\n",
       "      <td>...</td>\n",
       "      <td>...</td>\n",
       "      <td>...</td>\n",
       "    </tr>\n",
       "    <tr>\n",
       "      <th>9315</th>\n",
       "      <td>tt6788942</td>\n",
       "      <td>1203</td>\n",
       "      <td>1426</td>\n",
       "      <td>False</td>\n",
       "      <td>SourceInfo(sources_and_scores=(('heuristic 4: ...</td>\n",
       "      <td>train</td>\n",
       "    </tr>\n",
       "    <tr>\n",
       "      <th>9316</th>\n",
       "      <td>tt6788942</td>\n",
       "      <td>1206</td>\n",
       "      <td>1367</td>\n",
       "      <td>False</td>\n",
       "      <td>SourceInfo(sources_and_scores=(('heuristic 4: ...</td>\n",
       "      <td>train</td>\n",
       "    </tr>\n",
       "    <tr>\n",
       "      <th>9317</th>\n",
       "      <td>tt6788942</td>\n",
       "      <td>1367</td>\n",
       "      <td>1505</td>\n",
       "      <td>False</td>\n",
       "      <td>SourceInfo(sources_and_scores=(('heuristic 4: ...</td>\n",
       "      <td>train</td>\n",
       "    </tr>\n",
       "    <tr>\n",
       "      <th>9318</th>\n",
       "      <td>tt6788942</td>\n",
       "      <td>1367</td>\n",
       "      <td>1558</td>\n",
       "      <td>False</td>\n",
       "      <td>SourceInfo(sources_and_scores=(('heuristic 4: ...</td>\n",
       "      <td>train</td>\n",
       "    </tr>\n",
       "    <tr>\n",
       "      <th>9319</th>\n",
       "      <td>tt6788942</td>\n",
       "      <td>1367</td>\n",
       "      <td>1721</td>\n",
       "      <td>False</td>\n",
       "      <td>SourceInfo(sources_and_scores=(('heuristic 4: ...</td>\n",
       "      <td>train</td>\n",
       "    </tr>\n",
       "  </tbody>\n",
       "</table>\n",
       "<p>9320 rows × 6 columns</p>\n",
       "</div>"
      ],
      "text/plain": [
       "        imdb_id  shot1_idx  shot2_idx  label  \\\n",
       "0     tt0118799          6         92  False   \n",
       "1     tt0118799          6        112  False   \n",
       "2     tt0118799          6        294  False   \n",
       "3     tt0118799          6        500   True   \n",
       "4     tt0118799          6        530  False   \n",
       "...         ...        ...        ...    ...   \n",
       "9315  tt6788942       1203       1426  False   \n",
       "9316  tt6788942       1206       1367  False   \n",
       "9317  tt6788942       1367       1505  False   \n",
       "9318  tt6788942       1367       1558  False   \n",
       "9319  tt6788942       1367       1721  False   \n",
       "\n",
       "                                            source_info  split  \n",
       "0     SourceInfo(sources_and_scores=(('heuristic 3: ...   test  \n",
       "1     SourceInfo(sources_and_scores=(('heuristic 3: ...   test  \n",
       "2     SourceInfo(sources_and_scores=(('heuristic 3: ...   test  \n",
       "3     SourceInfo(sources_and_scores=(('heuristic 3: ...   test  \n",
       "4     SourceInfo(sources_and_scores=(('heuristic 3: ...   test  \n",
       "...                                                 ...    ...  \n",
       "9315  SourceInfo(sources_and_scores=(('heuristic 4: ...  train  \n",
       "9316  SourceInfo(sources_and_scores=(('heuristic 4: ...  train  \n",
       "9317  SourceInfo(sources_and_scores=(('heuristic 4: ...  train  \n",
       "9318  SourceInfo(sources_and_scores=(('heuristic 4: ...  train  \n",
       "9319  SourceInfo(sources_and_scores=(('heuristic 4: ...  train  \n",
       "\n",
       "[9320 rows x 6 columns]"
      ]
     },
     "execution_count": 110,
     "metadata": {
      "nterop": {
       "id": "167"
      }
     },
     "output_type": "execute_result"
    }
   ],
   "source": [
    "df_motion.assign(split=df_motion.imdb_id.map(id_to_split))"
   ]
  },
  {
   "attachments": {},
   "cell_type": "markdown",
   "metadata": {
    "nterop": {
     "id": "114"
    }
   },
   "source": [
    "### Annotator-level data"
   ]
  },
  {
   "cell_type": "code",
   "execution_count": 133,
   "metadata": {
    "nterop": {
     "id": "115"
    }
   },
   "outputs": [
    {
     "data": {
      "text/html": [
       "<div>\n",
       "<style scoped>\n",
       "    .dataframe tbody tr th:only-of-type {\n",
       "        vertical-align: middle;\n",
       "    }\n",
       "\n",
       "    .dataframe tbody tr th {\n",
       "        vertical-align: top;\n",
       "    }\n",
       "\n",
       "    .dataframe thead th {\n",
       "        text-align: right;\n",
       "    }\n",
       "</style>\n",
       "<table border=\"1\" class=\"dataframe\">\n",
       "  <thead>\n",
       "    <tr style=\"text-align: right;\">\n",
       "      <th></th>\n",
       "      <th>imdb_id</th>\n",
       "      <th>shot1_idx</th>\n",
       "      <th>shot2_idx</th>\n",
       "      <th>annotator_idx</th>\n",
       "      <th>annotator_label</th>\n",
       "      <th>task</th>\n",
       "    </tr>\n",
       "  </thead>\n",
       "  <tbody>\n",
       "    <tr>\n",
       "      <th>0</th>\n",
       "      <td>tt0118799</td>\n",
       "      <td>3</td>\n",
       "      <td>13</td>\n",
       "      <td>1</td>\n",
       "      <td>False</td>\n",
       "      <td>frame</td>\n",
       "    </tr>\n",
       "    <tr>\n",
       "      <th>1</th>\n",
       "      <td>tt0118799</td>\n",
       "      <td>3</td>\n",
       "      <td>13</td>\n",
       "      <td>2</td>\n",
       "      <td>False</td>\n",
       "      <td>frame</td>\n",
       "    </tr>\n",
       "    <tr>\n",
       "      <th>2</th>\n",
       "      <td>tt0118799</td>\n",
       "      <td>3</td>\n",
       "      <td>13</td>\n",
       "      <td>3</td>\n",
       "      <td>False</td>\n",
       "      <td>frame</td>\n",
       "    </tr>\n",
       "    <tr>\n",
       "      <th>3</th>\n",
       "      <td>tt0118799</td>\n",
       "      <td>3</td>\n",
       "      <td>14</td>\n",
       "      <td>1</td>\n",
       "      <td>False</td>\n",
       "      <td>frame</td>\n",
       "    </tr>\n",
       "    <tr>\n",
       "      <th>4</th>\n",
       "      <td>tt0118799</td>\n",
       "      <td>3</td>\n",
       "      <td>14</td>\n",
       "      <td>2</td>\n",
       "      <td>False</td>\n",
       "      <td>frame</td>\n",
       "    </tr>\n",
       "    <tr>\n",
       "      <th>...</th>\n",
       "      <td>...</td>\n",
       "      <td>...</td>\n",
       "      <td>...</td>\n",
       "      <td>...</td>\n",
       "      <td>...</td>\n",
       "      <td>...</td>\n",
       "    </tr>\n",
       "    <tr>\n",
       "      <th>27955</th>\n",
       "      <td>tt6788942</td>\n",
       "      <td>1367</td>\n",
       "      <td>1558</td>\n",
       "      <td>2</td>\n",
       "      <td>False</td>\n",
       "      <td>motion</td>\n",
       "    </tr>\n",
       "    <tr>\n",
       "      <th>27956</th>\n",
       "      <td>tt6788942</td>\n",
       "      <td>1367</td>\n",
       "      <td>1558</td>\n",
       "      <td>3</td>\n",
       "      <td>False</td>\n",
       "      <td>motion</td>\n",
       "    </tr>\n",
       "    <tr>\n",
       "      <th>27957</th>\n",
       "      <td>tt6788942</td>\n",
       "      <td>1367</td>\n",
       "      <td>1721</td>\n",
       "      <td>1</td>\n",
       "      <td>False</td>\n",
       "      <td>motion</td>\n",
       "    </tr>\n",
       "    <tr>\n",
       "      <th>27958</th>\n",
       "      <td>tt6788942</td>\n",
       "      <td>1367</td>\n",
       "      <td>1721</td>\n",
       "      <td>2</td>\n",
       "      <td>False</td>\n",
       "      <td>motion</td>\n",
       "    </tr>\n",
       "    <tr>\n",
       "      <th>27959</th>\n",
       "      <td>tt6788942</td>\n",
       "      <td>1367</td>\n",
       "      <td>1721</td>\n",
       "      <td>3</td>\n",
       "      <td>False</td>\n",
       "      <td>motion</td>\n",
       "    </tr>\n",
       "  </tbody>\n",
       "</table>\n",
       "<p>57915 rows × 6 columns</p>\n",
       "</div>"
      ],
      "text/plain": [
       "         imdb_id  shot1_idx  shot2_idx  annotator_idx  annotator_label    task\n",
       "0      tt0118799          3         13              1            False   frame\n",
       "1      tt0118799          3         13              2            False   frame\n",
       "2      tt0118799          3         13              3            False   frame\n",
       "3      tt0118799          3         14              1            False   frame\n",
       "4      tt0118799          3         14              2            False   frame\n",
       "...          ...        ...        ...            ...              ...     ...\n",
       "27955  tt6788942       1367       1558              2            False  motion\n",
       "27956  tt6788942       1367       1558              3            False  motion\n",
       "27957  tt6788942       1367       1721              1            False  motion\n",
       "27958  tt6788942       1367       1721              2            False  motion\n",
       "27959  tt6788942       1367       1721              3            False  motion\n",
       "\n",
       "[57915 rows x 6 columns]"
      ]
     },
     "execution_count": 133,
     "metadata": {
      "nterop": {
       "id": "168"
      }
     },
     "output_type": "execute_result"
    }
   ],
   "source": [
    "def get_annotator_level_labels(task: str) -> pd.DataFrame:\n",
    "    pairs = json.load(open(f\"data/dataset-{task}.json\"))\n",
    "    return pd.DataFrame(\n",
    "        dict(\n",
    "            imdb_id=pair['imdb_id'],\n",
    "            shot1_idx=pair['clip1_index'],\n",
    "            shot2_idx=pair['clip2_index'],\n",
    "            annotator_idx=int(idx),\n",
    "            annotator_label=label,\n",
    "            task=task,\n",
    "        )\n",
    "        for pair in pairs\n",
    "        for idx, label in pair[\"annotator_labels\"].items()\n",
    "    )\n",
    "\n",
    "df_annotator_level = pd.concat((\n",
    "    get_annotator_level_labels(task=\"frame\"),\n",
    "    get_annotator_level_labels(task=\"motion\"),\n",
    "))\n",
    "df_annotator_level"
   ]
  },
  {
   "cell_type": "code",
   "execution_count": 134,
   "metadata": {
    "nterop": {
     "id": "117"
    }
   },
   "outputs": [
    {
     "data": {
      "text/plain": [
       "task\n",
       "frame     0.104991\n",
       "motion    0.131545\n",
       "Name: annotator_label, dtype: float64"
      ]
     },
     "execution_count": 134,
     "metadata": {
      "nterop": {
       "id": "169"
      }
     },
     "output_type": "execute_result"
    }
   ],
   "source": [
    "df_annotator_level.groupby('task').annotator_label.mean()"
   ]
  },
  {
   "cell_type": "code",
   "execution_count": 135,
   "metadata": {
    "nterop": {
     "id": "119"
    }
   },
   "outputs": [
    {
     "data": {
      "text/plain": [
       "0.11781058447725114"
      ]
     },
     "execution_count": 135,
     "metadata": {
      "nterop": {
       "id": "170"
      }
     },
     "output_type": "execute_result"
    }
   ],
   "source": [
    "df_annotator_level.annotator_label.mean()"
   ]
  },
  {
   "attachments": {},
   "cell_type": "markdown",
   "metadata": {
    "nterop": {
     "id": "121"
    }
   },
   "source": [
    "### Annotator agreement"
   ]
  },
  {
   "cell_type": "code",
   "execution_count": 138,
   "metadata": {
    "nterop": {
     "id": "122"
    }
   },
   "outputs": [],
   "source": [
    "df_annotator_pos_cnt = (\n",
    "    df_annotator_level\n",
    "    .groupby(['task', 'imdb_id', 'shot1_idx', 'shot2_idx'])\n",
    "    .annotator_label\n",
    "    .sum()\n",
    "    .apply(int)\n",
    "    .rename('positive_label_cnt').reset_index()\n",
    ")"
   ]
  },
  {
   "cell_type": "code",
   "execution_count": 146,
   "metadata": {
    "nterop": {
     "id": "124"
    }
   },
   "outputs": [
    {
     "data": {
      "image/png": "[encoded data removed]",
      "text/plain": [
       "<Figure size 432x288 with 1 Axes>"
      ]
     },
     "metadata": {
      "needs_background": "light",
      "nterop": {
       "id": "171"
      }
     },
     "output_type": "display_data"
    }
   ],
   "source": [
    "_ = df_annotator_pos_cnt.groupby(['positive_label_cnt', 'task']).size().unstack().plot(kind='bar', rot=0)\n",
    "plt.ylabel('Shot pairs')\n",
    "_ = plt.xlabel('Number of annotators that labeled the same pair positive')"
   ]
  },
  {
   "attachments": {},
   "cell_type": "markdown",
   "metadata": {
    "nterop": {
     "id": "66"
    }
   },
   "source": [
    "### experiment results"
   ]
  },
  {
   "attachments": {},
   "cell_type": "markdown",
   "metadata": {
    "nterop": {
     "id": "67"
    }
   },
   "source": [
    "#### experiment 1"
   ]
  },
  {
   "cell_type": "code",
   "execution_count": 167,
   "metadata": {
    "nterop": {
     "id": "68"
    }
   },
   "outputs": [],
   "source": [
    "df_exp1 = pd.read_csv('experiment1.csv')"
   ]
  },
  {
   "attachments": {},
   "cell_type": "markdown",
   "metadata": {
    "nterop": {
     "id": "174"
    }
   },
   "source": [
    "#### detailed view"
   ]
  },
  {
   "cell_type": "code",
   "execution_count": 168,
   "metadata": {
    "nterop": {
     "id": "175"
    }
   },
   "outputs": [
    {
     "data": {
      "text/html": [
       "<div>\n",
       "<style scoped>\n",
       "    .dataframe tbody tr th:only-of-type {\n",
       "        vertical-align: middle;\n",
       "    }\n",
       "\n",
       "    .dataframe tbody tr th {\n",
       "        vertical-align: top;\n",
       "    }\n",
       "\n",
       "    .dataframe thead th {\n",
       "        text-align: right;\n",
       "    }\n",
       "</style>\n",
       "<table border=\"1\" class=\"dataframe\">\n",
       "  <thead>\n",
       "    <tr style=\"text-align: right;\">\n",
       "      <th></th>\n",
       "      <th>task</th>\n",
       "      <th>encoder</th>\n",
       "      <th>model</th>\n",
       "      <th>agg</th>\n",
       "      <th>train-AP</th>\n",
       "      <th>validation-AP</th>\n",
       "      <th>test-AP</th>\n",
       "    </tr>\n",
       "  </thead>\n",
       "  <tbody>\n",
       "    <tr>\n",
       "      <th>0</th>\n",
       "      <td>frame</td>\n",
       "      <td>baseline</td>\n",
       "      <td>NaN</td>\n",
       "      <td>NaN</td>\n",
       "      <td>0.079</td>\n",
       "      <td>0.094</td>\n",
       "      <td>0.119</td>\n",
       "    </tr>\n",
       "    <tr>\n",
       "      <th>1</th>\n",
       "      <td>motion</td>\n",
       "      <td>baseline</td>\n",
       "      <td>NaN</td>\n",
       "      <td>NaN</td>\n",
       "      <td>0.095</td>\n",
       "      <td>0.096</td>\n",
       "      <td>0.122</td>\n",
       "    </tr>\n",
       "    <tr>\n",
       "      <th>2</th>\n",
       "      <td>frame</td>\n",
       "      <td>heuristic 1</td>\n",
       "      <td>NaN</td>\n",
       "      <td>NaN</td>\n",
       "      <td>0.012</td>\n",
       "      <td>0.006</td>\n",
       "      <td>0.017</td>\n",
       "    </tr>\n",
       "    <tr>\n",
       "      <th>3</th>\n",
       "      <td>frame</td>\n",
       "      <td>heuristic 2</td>\n",
       "      <td>NaN</td>\n",
       "      <td>NaN</td>\n",
       "      <td>0.169</td>\n",
       "      <td>0.177</td>\n",
       "      <td>0.207</td>\n",
       "    </tr>\n",
       "    <tr>\n",
       "      <th>4</th>\n",
       "      <td>frame</td>\n",
       "      <td>heuristic 3</td>\n",
       "      <td>NaN</td>\n",
       "      <td>NaN</td>\n",
       "      <td>0.218</td>\n",
       "      <td>0.234</td>\n",
       "      <td>0.248</td>\n",
       "    </tr>\n",
       "    <tr>\n",
       "      <th>...</th>\n",
       "      <td>...</td>\n",
       "      <td>...</td>\n",
       "      <td>...</td>\n",
       "      <td>...</td>\n",
       "      <td>...</td>\n",
       "      <td>...</td>\n",
       "      <td>...</td>\n",
       "    </tr>\n",
       "    <tr>\n",
       "      <th>392</th>\n",
       "      <td>motion</td>\n",
       "      <td>yamnet-swin</td>\n",
       "      <td>mlp_small</td>\n",
       "      <td>concat</td>\n",
       "      <td>0.778 ± 0.018</td>\n",
       "      <td>0.12 ± 0.006</td>\n",
       "      <td>0.167</td>\n",
       "    </tr>\n",
       "    <tr>\n",
       "      <th>393</th>\n",
       "      <td>motion</td>\n",
       "      <td>yamnet-swin</td>\n",
       "      <td>mlp_small</td>\n",
       "      <td>abs_diff</td>\n",
       "      <td>0.773 ± 0.015</td>\n",
       "      <td>0.118 ± 0.008</td>\n",
       "      <td>0.132</td>\n",
       "    </tr>\n",
       "    <tr>\n",
       "      <th>394</th>\n",
       "      <td>motion</td>\n",
       "      <td>yamnet-swin</td>\n",
       "      <td>mlp_large</td>\n",
       "      <td>mean</td>\n",
       "      <td>0.793 ± 0.022</td>\n",
       "      <td>0.121 ± 0.008</td>\n",
       "      <td>0.182</td>\n",
       "    </tr>\n",
       "    <tr>\n",
       "      <th>395</th>\n",
       "      <td>motion</td>\n",
       "      <td>yamnet-swin</td>\n",
       "      <td>mlp_large</td>\n",
       "      <td>concat</td>\n",
       "      <td>0.778 ± 0.014</td>\n",
       "      <td>0.122 ± 0.004</td>\n",
       "      <td>0.176</td>\n",
       "    </tr>\n",
       "    <tr>\n",
       "      <th>396</th>\n",
       "      <td>motion</td>\n",
       "      <td>yamnet-swin</td>\n",
       "      <td>mlp_large</td>\n",
       "      <td>abs_diff</td>\n",
       "      <td>0.786 ± 0.012</td>\n",
       "      <td>0.117 ± 0.012</td>\n",
       "      <td>0.138</td>\n",
       "    </tr>\n",
       "  </tbody>\n",
       "</table>\n",
       "<p>397 rows × 7 columns</p>\n",
       "</div>"
      ],
      "text/plain": [
       "       task      encoder      model       agg       train-AP  validation-AP  \\\n",
       "0     frame     baseline        NaN       NaN          0.079          0.094   \n",
       "1    motion     baseline        NaN       NaN          0.095          0.096   \n",
       "2     frame  heuristic 1        NaN       NaN          0.012          0.006   \n",
       "3     frame  heuristic 2        NaN       NaN          0.169          0.177   \n",
       "4     frame  heuristic 3        NaN       NaN          0.218          0.234   \n",
       "..      ...          ...        ...       ...            ...            ...   \n",
       "392  motion  yamnet-swin  mlp_small    concat  0.778 ± 0.018   0.12 ± 0.006   \n",
       "393  motion  yamnet-swin  mlp_small  abs_diff  0.773 ± 0.015  0.118 ± 0.008   \n",
       "394  motion  yamnet-swin  mlp_large      mean  0.793 ± 0.022  0.121 ± 0.008   \n",
       "395  motion  yamnet-swin  mlp_large    concat  0.778 ± 0.014  0.122 ± 0.004   \n",
       "396  motion  yamnet-swin  mlp_large  abs_diff  0.786 ± 0.012  0.117 ± 0.012   \n",
       "\n",
       "     test-AP  \n",
       "0      0.119  \n",
       "1      0.122  \n",
       "2      0.017  \n",
       "3      0.207  \n",
       "4      0.248  \n",
       "..       ...  \n",
       "392    0.167  \n",
       "393    0.132  \n",
       "394    0.182  \n",
       "395    0.176  \n",
       "396    0.138  \n",
       "\n",
       "[397 rows x 7 columns]"
      ]
     },
     "execution_count": 168,
     "metadata": {
      "nterop": {
       "id": "176"
      }
     },
     "output_type": "execute_result"
    }
   ],
   "source": [
    "df_exp1"
   ]
  },
  {
   "attachments": {},
   "cell_type": "markdown",
   "metadata": {
    "nterop": {
     "id": "177"
    }
   },
   "source": [
    "#### aggregated"
   ]
  },
  {
   "cell_type": "code",
   "execution_count": 171,
   "metadata": {
    "nterop": {
     "id": "178"
    }
   },
   "outputs": [
    {
     "data": {
      "text/html": [
       "<div>\n",
       "<style scoped>\n",
       "    .dataframe tbody tr th:only-of-type {\n",
       "        vertical-align: middle;\n",
       "    }\n",
       "\n",
       "    .dataframe tbody tr th {\n",
       "        vertical-align: top;\n",
       "    }\n",
       "\n",
       "    .dataframe thead th {\n",
       "        text-align: right;\n",
       "    }\n",
       "</style>\n",
       "<table border=\"1\" class=\"dataframe\">\n",
       "  <thead>\n",
       "    <tr style=\"text-align: right;\">\n",
       "      <th></th>\n",
       "      <th>task</th>\n",
       "      <th>encoder</th>\n",
       "      <th>model</th>\n",
       "      <th>agg</th>\n",
       "      <th>train-AP</th>\n",
       "      <th>validation-AP</th>\n",
       "      <th>test-AP</th>\n",
       "    </tr>\n",
       "  </thead>\n",
       "  <tbody>\n",
       "    <tr>\n",
       "      <th>0</th>\n",
       "      <td>frame</td>\n",
       "      <td>baseline</td>\n",
       "      <td>NaN</td>\n",
       "      <td>NaN</td>\n",
       "      <td>0.079</td>\n",
       "      <td>0.094</td>\n",
       "      <td>0.119</td>\n",
       "    </tr>\n",
       "    <tr>\n",
       "      <th>1</th>\n",
       "      <td>frame</td>\n",
       "      <td>clip</td>\n",
       "      <td>mlp</td>\n",
       "      <td>mean</td>\n",
       "      <td>0.829 ± 0.011</td>\n",
       "      <td>0.253 ± 0.023</td>\n",
       "      <td>0.240</td>\n",
       "    </tr>\n",
       "    <tr>\n",
       "      <th>2</th>\n",
       "      <td>frame</td>\n",
       "      <td>clip4clip</td>\n",
       "      <td>mlp_large</td>\n",
       "      <td>mean</td>\n",
       "      <td>0.836 ± 0.009</td>\n",
       "      <td>0.277 ± 0.012</td>\n",
       "      <td>0.304</td>\n",
       "    </tr>\n",
       "    <tr>\n",
       "      <th>3</th>\n",
       "      <td>frame</td>\n",
       "      <td>efficientnetb7</td>\n",
       "      <td>xgboost</td>\n",
       "      <td>mean</td>\n",
       "      <td>0.852 ± 0.011</td>\n",
       "      <td>0.261 ± 0.025</td>\n",
       "      <td>0.352</td>\n",
       "    </tr>\n",
       "    <tr>\n",
       "      <th>4</th>\n",
       "      <td>frame</td>\n",
       "      <td>heuristic 1</td>\n",
       "      <td>NaN</td>\n",
       "      <td>NaN</td>\n",
       "      <td>0.012</td>\n",
       "      <td>0.006</td>\n",
       "      <td>0.017</td>\n",
       "    </tr>\n",
       "    <tr>\n",
       "      <th>5</th>\n",
       "      <td>frame</td>\n",
       "      <td>heuristic 2</td>\n",
       "      <td>NaN</td>\n",
       "      <td>NaN</td>\n",
       "      <td>0.169</td>\n",
       "      <td>0.177</td>\n",
       "      <td>0.207</td>\n",
       "    </tr>\n",
       "    <tr>\n",
       "      <th>6</th>\n",
       "      <td>frame</td>\n",
       "      <td>heuristic 3</td>\n",
       "      <td>NaN</td>\n",
       "      <td>NaN</td>\n",
       "      <td>0.218</td>\n",
       "      <td>0.234</td>\n",
       "      <td>0.248</td>\n",
       "    </tr>\n",
       "    <tr>\n",
       "      <th>7</th>\n",
       "      <td>frame</td>\n",
       "      <td>r2plus1d</td>\n",
       "      <td>mlp_large</td>\n",
       "      <td>mean</td>\n",
       "      <td>0.829 ± 0.012</td>\n",
       "      <td>0.222 ± 0.021</td>\n",
       "      <td>0.224</td>\n",
       "    </tr>\n",
       "    <tr>\n",
       "      <th>8</th>\n",
       "      <td>frame</td>\n",
       "      <td>resnet50</td>\n",
       "      <td>mlp_large</td>\n",
       "      <td>concat</td>\n",
       "      <td>0.838 ± 0.01</td>\n",
       "      <td>0.266 ± 0.015</td>\n",
       "      <td>0.269</td>\n",
       "    </tr>\n",
       "    <tr>\n",
       "      <th>9</th>\n",
       "      <td>frame</td>\n",
       "      <td>swin</td>\n",
       "      <td>mlp</td>\n",
       "      <td>mean</td>\n",
       "      <td>0.815 ± 0.014</td>\n",
       "      <td>0.27 ± 0.03</td>\n",
       "      <td>0.287</td>\n",
       "    </tr>\n",
       "    <tr>\n",
       "      <th>10</th>\n",
       "      <td>frame</td>\n",
       "      <td>yamnet</td>\n",
       "      <td>xgboost</td>\n",
       "      <td>concat</td>\n",
       "      <td>0.81 ± 0.01</td>\n",
       "      <td>0.174 ± 0.015</td>\n",
       "      <td>0.160</td>\n",
       "    </tr>\n",
       "    <tr>\n",
       "      <th>11</th>\n",
       "      <td>frame</td>\n",
       "      <td>yamnet-clip</td>\n",
       "      <td>xgboost</td>\n",
       "      <td>concat</td>\n",
       "      <td>0.857 ± 0.008</td>\n",
       "      <td>0.245 ± 0.022</td>\n",
       "      <td>0.286</td>\n",
       "    </tr>\n",
       "    <tr>\n",
       "      <th>12</th>\n",
       "      <td>frame</td>\n",
       "      <td>yamnet-clip4clip</td>\n",
       "      <td>xgboost</td>\n",
       "      <td>mean</td>\n",
       "      <td>0.861 ± 0.009</td>\n",
       "      <td>0.289 ± 0.017</td>\n",
       "      <td>0.327</td>\n",
       "    </tr>\n",
       "    <tr>\n",
       "      <th>13</th>\n",
       "      <td>frame</td>\n",
       "      <td>yamnet-efficientnetb7</td>\n",
       "      <td>xgboost</td>\n",
       "      <td>mean</td>\n",
       "      <td>0.856 ± 0.008</td>\n",
       "      <td>0.275 ± 0.03</td>\n",
       "      <td>0.355</td>\n",
       "    </tr>\n",
       "    <tr>\n",
       "      <th>14</th>\n",
       "      <td>frame</td>\n",
       "      <td>yamnet-r2plus1d</td>\n",
       "      <td>xgboost</td>\n",
       "      <td>concat</td>\n",
       "      <td>0.836 ± 0.003</td>\n",
       "      <td>0.219 ± 0.02</td>\n",
       "      <td>0.218</td>\n",
       "    </tr>\n",
       "    <tr>\n",
       "      <th>15</th>\n",
       "      <td>frame</td>\n",
       "      <td>yamnet-resnet50</td>\n",
       "      <td>xgboost</td>\n",
       "      <td>concat</td>\n",
       "      <td>0.85 ± 0.006</td>\n",
       "      <td>0.283 ± 0.015</td>\n",
       "      <td>0.321</td>\n",
       "    </tr>\n",
       "    <tr>\n",
       "      <th>16</th>\n",
       "      <td>frame</td>\n",
       "      <td>yamnet-swin</td>\n",
       "      <td>mlp_large</td>\n",
       "      <td>mean</td>\n",
       "      <td>0.81 ± 0.015</td>\n",
       "      <td>0.269 ± 0.024</td>\n",
       "      <td>0.336</td>\n",
       "    </tr>\n",
       "    <tr>\n",
       "      <th>17</th>\n",
       "      <td>motion</td>\n",
       "      <td>baseline</td>\n",
       "      <td>NaN</td>\n",
       "      <td>NaN</td>\n",
       "      <td>0.095</td>\n",
       "      <td>0.096</td>\n",
       "      <td>0.122</td>\n",
       "    </tr>\n",
       "    <tr>\n",
       "      <th>18</th>\n",
       "      <td>motion</td>\n",
       "      <td>clip</td>\n",
       "      <td>mlp_large</td>\n",
       "      <td>concat</td>\n",
       "      <td>0.787 ± 0.021</td>\n",
       "      <td>0.131 ± 0.01</td>\n",
       "      <td>0.107</td>\n",
       "    </tr>\n",
       "    <tr>\n",
       "      <th>19</th>\n",
       "      <td>motion</td>\n",
       "      <td>clip4clip</td>\n",
       "      <td>mlp</td>\n",
       "      <td>mean</td>\n",
       "      <td>0.8 ± 0.013</td>\n",
       "      <td>0.121 ± 0.007</td>\n",
       "      <td>0.130</td>\n",
       "    </tr>\n",
       "    <tr>\n",
       "      <th>20</th>\n",
       "      <td>motion</td>\n",
       "      <td>efficientnetb7</td>\n",
       "      <td>mlp_small</td>\n",
       "      <td>mean</td>\n",
       "      <td>0.789 ± 0.012</td>\n",
       "      <td>0.118 ± 0.012</td>\n",
       "      <td>0.112</td>\n",
       "    </tr>\n",
       "    <tr>\n",
       "      <th>21</th>\n",
       "      <td>motion</td>\n",
       "      <td>heuristic 4</td>\n",
       "      <td>NaN</td>\n",
       "      <td>NaN</td>\n",
       "      <td>0.195</td>\n",
       "      <td>0.192</td>\n",
       "      <td>0.163</td>\n",
       "    </tr>\n",
       "    <tr>\n",
       "      <th>22</th>\n",
       "      <td>motion</td>\n",
       "      <td>heuristic 5</td>\n",
       "      <td>NaN</td>\n",
       "      <td>NaN</td>\n",
       "      <td>0.184</td>\n",
       "      <td>0.134</td>\n",
       "      <td>0.132</td>\n",
       "    </tr>\n",
       "    <tr>\n",
       "      <th>23</th>\n",
       "      <td>motion</td>\n",
       "      <td>r2plus1d</td>\n",
       "      <td>mlp_large</td>\n",
       "      <td>concat</td>\n",
       "      <td>0.805 ± 0.009</td>\n",
       "      <td>0.184 ± 0.022</td>\n",
       "      <td>0.193</td>\n",
       "    </tr>\n",
       "    <tr>\n",
       "      <th>24</th>\n",
       "      <td>motion</td>\n",
       "      <td>resnet50</td>\n",
       "      <td>mlp</td>\n",
       "      <td>mean</td>\n",
       "      <td>0.791 ± 0.016</td>\n",
       "      <td>0.12 ± 0.01</td>\n",
       "      <td>0.136</td>\n",
       "    </tr>\n",
       "    <tr>\n",
       "      <th>25</th>\n",
       "      <td>motion</td>\n",
       "      <td>swin</td>\n",
       "      <td>mlp_small</td>\n",
       "      <td>mean</td>\n",
       "      <td>0.787 ± 0.025</td>\n",
       "      <td>0.155 ± 0.016</td>\n",
       "      <td>0.150</td>\n",
       "    </tr>\n",
       "    <tr>\n",
       "      <th>26</th>\n",
       "      <td>motion</td>\n",
       "      <td>yamnet</td>\n",
       "      <td>mlp_large</td>\n",
       "      <td>abs_diff</td>\n",
       "      <td>0.743 ± 0.019</td>\n",
       "      <td>0.136 ± 0.016</td>\n",
       "      <td>0.136</td>\n",
       "    </tr>\n",
       "    <tr>\n",
       "      <th>27</th>\n",
       "      <td>motion</td>\n",
       "      <td>yamnet-clip</td>\n",
       "      <td>xgboost</td>\n",
       "      <td>abs_diff</td>\n",
       "      <td>0.795 ± 0.009</td>\n",
       "      <td>0.137 ± 0.016</td>\n",
       "      <td>0.137</td>\n",
       "    </tr>\n",
       "    <tr>\n",
       "      <th>28</th>\n",
       "      <td>motion</td>\n",
       "      <td>yamnet-clip4clip</td>\n",
       "      <td>xgboost</td>\n",
       "      <td>mean</td>\n",
       "      <td>0.826 ± 0.013</td>\n",
       "      <td>0.14 ± 0.008</td>\n",
       "      <td>0.124</td>\n",
       "    </tr>\n",
       "    <tr>\n",
       "      <th>29</th>\n",
       "      <td>motion</td>\n",
       "      <td>yamnet-efficientnetb7</td>\n",
       "      <td>xgboost</td>\n",
       "      <td>abs_diff</td>\n",
       "      <td>0.801 ± 0.011</td>\n",
       "      <td>0.136 ± 0.011</td>\n",
       "      <td>0.128</td>\n",
       "    </tr>\n",
       "    <tr>\n",
       "      <th>30</th>\n",
       "      <td>motion</td>\n",
       "      <td>yamnet-r2plus1d</td>\n",
       "      <td>xgboost</td>\n",
       "      <td>mean</td>\n",
       "      <td>0.835 ± 0.011</td>\n",
       "      <td>0.17 ± 0.015</td>\n",
       "      <td>0.177</td>\n",
       "    </tr>\n",
       "    <tr>\n",
       "      <th>31</th>\n",
       "      <td>motion</td>\n",
       "      <td>yamnet-resnet50</td>\n",
       "      <td>xgboost</td>\n",
       "      <td>mean</td>\n",
       "      <td>0.821 ± 0.013</td>\n",
       "      <td>0.129 ± 0.007</td>\n",
       "      <td>0.145</td>\n",
       "    </tr>\n",
       "    <tr>\n",
       "      <th>32</th>\n",
       "      <td>motion</td>\n",
       "      <td>yamnet-swin</td>\n",
       "      <td>xgboost</td>\n",
       "      <td>mean</td>\n",
       "      <td>0.824 ± 0.014</td>\n",
       "      <td>0.139 ± 0.01</td>\n",
       "      <td>0.161</td>\n",
       "    </tr>\n",
       "  </tbody>\n",
       "</table>\n",
       "</div>"
      ],
      "text/plain": [
       "      task                encoder      model       agg       train-AP  \\\n",
       "0    frame               baseline        NaN       NaN          0.079   \n",
       "1    frame                   clip        mlp      mean  0.829 ± 0.011   \n",
       "2    frame              clip4clip  mlp_large      mean  0.836 ± 0.009   \n",
       "3    frame         efficientnetb7    xgboost      mean  0.852 ± 0.011   \n",
       "4    frame            heuristic 1        NaN       NaN          0.012   \n",
       "5    frame            heuristic 2        NaN       NaN          0.169   \n",
       "6    frame            heuristic 3        NaN       NaN          0.218   \n",
       "7    frame               r2plus1d  mlp_large      mean  0.829 ± 0.012   \n",
       "8    frame               resnet50  mlp_large    concat   0.838 ± 0.01   \n",
       "9    frame                   swin        mlp      mean  0.815 ± 0.014   \n",
       "10   frame                 yamnet    xgboost    concat    0.81 ± 0.01   \n",
       "11   frame            yamnet-clip    xgboost    concat  0.857 ± 0.008   \n",
       "12   frame       yamnet-clip4clip    xgboost      mean  0.861 ± 0.009   \n",
       "13   frame  yamnet-efficientnetb7    xgboost      mean  0.856 ± 0.008   \n",
       "14   frame        yamnet-r2plus1d    xgboost    concat  0.836 ± 0.003   \n",
       "15   frame        yamnet-resnet50    xgboost    concat   0.85 ± 0.006   \n",
       "16   frame            yamnet-swin  mlp_large      mean   0.81 ± 0.015   \n",
       "17  motion               baseline        NaN       NaN          0.095   \n",
       "18  motion                   clip  mlp_large    concat  0.787 ± 0.021   \n",
       "19  motion              clip4clip        mlp      mean    0.8 ± 0.013   \n",
       "20  motion         efficientnetb7  mlp_small      mean  0.789 ± 0.012   \n",
       "21  motion            heuristic 4        NaN       NaN          0.195   \n",
       "22  motion            heuristic 5        NaN       NaN          0.184   \n",
       "23  motion               r2plus1d  mlp_large    concat  0.805 ± 0.009   \n",
       "24  motion               resnet50        mlp      mean  0.791 ± 0.016   \n",
       "25  motion                   swin  mlp_small      mean  0.787 ± 0.025   \n",
       "26  motion                 yamnet  mlp_large  abs_diff  0.743 ± 0.019   \n",
       "27  motion            yamnet-clip    xgboost  abs_diff  0.795 ± 0.009   \n",
       "28  motion       yamnet-clip4clip    xgboost      mean  0.826 ± 0.013   \n",
       "29  motion  yamnet-efficientnetb7    xgboost  abs_diff  0.801 ± 0.011   \n",
       "30  motion        yamnet-r2plus1d    xgboost      mean  0.835 ± 0.011   \n",
       "31  motion        yamnet-resnet50    xgboost      mean  0.821 ± 0.013   \n",
       "32  motion            yamnet-swin    xgboost      mean  0.824 ± 0.014   \n",
       "\n",
       "    validation-AP  test-AP  \n",
       "0           0.094    0.119  \n",
       "1   0.253 ± 0.023    0.240  \n",
       "2   0.277 ± 0.012    0.304  \n",
       "3   0.261 ± 0.025    0.352  \n",
       "4           0.006    0.017  \n",
       "5           0.177    0.207  \n",
       "6           0.234    0.248  \n",
       "7   0.222 ± 0.021    0.224  \n",
       "8   0.266 ± 0.015    0.269  \n",
       "9     0.27 ± 0.03    0.287  \n",
       "10  0.174 ± 0.015    0.160  \n",
       "11  0.245 ± 0.022    0.286  \n",
       "12  0.289 ± 0.017    0.327  \n",
       "13   0.275 ± 0.03    0.355  \n",
       "14   0.219 ± 0.02    0.218  \n",
       "15  0.283 ± 0.015    0.321  \n",
       "16  0.269 ± 0.024    0.336  \n",
       "17          0.096    0.122  \n",
       "18   0.131 ± 0.01    0.107  \n",
       "19  0.121 ± 0.007    0.130  \n",
       "20  0.118 ± 0.012    0.112  \n",
       "21          0.192    0.163  \n",
       "22          0.134    0.132  \n",
       "23  0.184 ± 0.022    0.193  \n",
       "24    0.12 ± 0.01    0.136  \n",
       "25  0.155 ± 0.016    0.150  \n",
       "26  0.136 ± 0.016    0.136  \n",
       "27  0.137 ± 0.016    0.137  \n",
       "28   0.14 ± 0.008    0.124  \n",
       "29  0.136 ± 0.011    0.128  \n",
       "30   0.17 ± 0.015    0.177  \n",
       "31  0.129 ± 0.007    0.145  \n",
       "32   0.139 ± 0.01    0.161  "
      ]
     },
     "execution_count": 171,
     "metadata": {
      "nterop": {
       "id": "179"
      }
     },
     "output_type": "execute_result"
    }
   ],
   "source": [
    "(\n",
    "    df_exp1\n",
    "    .assign(val_mean=df_exp1['validation-AP'].apply(lambda x: float(x.split(' ')[0])))\n",
    "    .groupby(['task', 'encoder'])\n",
    "    # take the combination with the highest mean validation AP per (task, encoder)\n",
    "    .apply(lambda rows: rows.sort_values(by='val_mean', ascending=False).head(1))\n",
    "    .drop(columns=['val_mean'])\n",
    "    .reset_index(drop=True)\n",
    ")"
   ]
  },
  {
   "attachments": {},
   "cell_type": "markdown",
   "metadata": {
    "nterop": {
     "id": "180"
    }
   },
   "source": [
    "### experiment 2"
   ]
  },
  {
   "cell_type": "code",
   "execution_count": 156,
   "metadata": {
    "nterop": {
     "id": "70"
    }
   },
   "outputs": [
    {
     "data": {
      "text/html": [
       "<div>\n",
       "<style scoped>\n",
       "    .dataframe tbody tr th:only-of-type {\n",
       "        vertical-align: middle;\n",
       "    }\n",
       "\n",
       "    .dataframe tbody tr th {\n",
       "        vertical-align: top;\n",
       "    }\n",
       "\n",
       "    .dataframe thead th {\n",
       "        text-align: right;\n",
       "    }\n",
       "</style>\n",
       "<table border=\"1\" class=\"dataframe\">\n",
       "  <thead>\n",
       "    <tr style=\"text-align: right;\">\n",
       "      <th></th>\n",
       "      <th>task</th>\n",
       "      <th>encoder</th>\n",
       "      <th>model</th>\n",
       "      <th>agg</th>\n",
       "      <th>train-AP</th>\n",
       "      <th>validation-AP</th>\n",
       "      <th>test-AP</th>\n",
       "    </tr>\n",
       "  </thead>\n",
       "  <tbody>\n",
       "    <tr>\n",
       "      <th>0</th>\n",
       "      <td>frame</td>\n",
       "      <td>clip4clip</td>\n",
       "      <td>NaN</td>\n",
       "      <td>NaN</td>\n",
       "      <td>0.751 ± 0.005</td>\n",
       "      <td>0.273 ± 0.01</td>\n",
       "      <td>0.359</td>\n",
       "    </tr>\n",
       "    <tr>\n",
       "      <th>1</th>\n",
       "      <td>frame</td>\n",
       "      <td>clip</td>\n",
       "      <td>NaN</td>\n",
       "      <td>NaN</td>\n",
       "      <td>0.743 ± 0.005</td>\n",
       "      <td>0.232 ± 0.009</td>\n",
       "      <td>0.320</td>\n",
       "    </tr>\n",
       "    <tr>\n",
       "      <th>2</th>\n",
       "      <td>frame</td>\n",
       "      <td>r2plus1d</td>\n",
       "      <td>NaN</td>\n",
       "      <td>NaN</td>\n",
       "      <td>0.768 ± 0.004</td>\n",
       "      <td>0.218 ± 0.007</td>\n",
       "      <td>0.263</td>\n",
       "    </tr>\n",
       "    <tr>\n",
       "      <th>3</th>\n",
       "      <td>frame</td>\n",
       "      <td>efficientnetb7</td>\n",
       "      <td>NaN</td>\n",
       "      <td>NaN</td>\n",
       "      <td>0.778 ± 0.004</td>\n",
       "      <td>0.284 ± 0.01</td>\n",
       "      <td>0.373</td>\n",
       "    </tr>\n",
       "    <tr>\n",
       "      <th>4</th>\n",
       "      <td>frame</td>\n",
       "      <td>resnet50</td>\n",
       "      <td>NaN</td>\n",
       "      <td>NaN</td>\n",
       "      <td>0.771 ± 0.006</td>\n",
       "      <td>0.258 ± 0.01</td>\n",
       "      <td>0.342</td>\n",
       "    </tr>\n",
       "    <tr>\n",
       "      <th>5</th>\n",
       "      <td>frame</td>\n",
       "      <td>swin</td>\n",
       "      <td>NaN</td>\n",
       "      <td>NaN</td>\n",
       "      <td>0.75 ± 0.004</td>\n",
       "      <td>0.255 ± 0.005</td>\n",
       "      <td>0.361</td>\n",
       "    </tr>\n",
       "    <tr>\n",
       "      <th>6</th>\n",
       "      <td>frame</td>\n",
       "      <td>yamnet</td>\n",
       "      <td>NaN</td>\n",
       "      <td>NaN</td>\n",
       "      <td>0.355 ± 0.016</td>\n",
       "      <td>0.118 ± 0.003</td>\n",
       "      <td>0.097</td>\n",
       "    </tr>\n",
       "    <tr>\n",
       "      <th>7</th>\n",
       "      <td>motion</td>\n",
       "      <td>r2plus1d</td>\n",
       "      <td>NaN</td>\n",
       "      <td>NaN</td>\n",
       "      <td>0.713 ± 0.007</td>\n",
       "      <td>0.173 ± 0.001</td>\n",
       "      <td>0.217</td>\n",
       "    </tr>\n",
       "    <tr>\n",
       "      <th>8</th>\n",
       "      <td>motion</td>\n",
       "      <td>swin</td>\n",
       "      <td>NaN</td>\n",
       "      <td>NaN</td>\n",
       "      <td>0.702 ± 0.006</td>\n",
       "      <td>0.143 ± 0.002</td>\n",
       "      <td>0.170</td>\n",
       "    </tr>\n",
       "    <tr>\n",
       "      <th>9</th>\n",
       "      <td>motion</td>\n",
       "      <td>clip4clip</td>\n",
       "      <td>NaN</td>\n",
       "      <td>NaN</td>\n",
       "      <td>0.704 ± 0.006</td>\n",
       "      <td>0.119 ± 0.001</td>\n",
       "      <td>0.144</td>\n",
       "    </tr>\n",
       "    <tr>\n",
       "      <th>10</th>\n",
       "      <td>motion</td>\n",
       "      <td>resnet50</td>\n",
       "      <td>NaN</td>\n",
       "      <td>NaN</td>\n",
       "      <td>0.734 ± 0.003</td>\n",
       "      <td>0.119 ± 0.003</td>\n",
       "      <td>0.131</td>\n",
       "    </tr>\n",
       "    <tr>\n",
       "      <th>11</th>\n",
       "      <td>motion</td>\n",
       "      <td>efficientnetb7</td>\n",
       "      <td>NaN</td>\n",
       "      <td>NaN</td>\n",
       "      <td>0.75 ± 0.006</td>\n",
       "      <td>0.139 ± 0.004</td>\n",
       "      <td>0.132</td>\n",
       "    </tr>\n",
       "    <tr>\n",
       "      <th>12</th>\n",
       "      <td>motion</td>\n",
       "      <td>clip</td>\n",
       "      <td>NaN</td>\n",
       "      <td>NaN</td>\n",
       "      <td>0.699 ± 0.006</td>\n",
       "      <td>0.112 ± 0.001</td>\n",
       "      <td>0.138</td>\n",
       "    </tr>\n",
       "    <tr>\n",
       "      <th>13</th>\n",
       "      <td>motion</td>\n",
       "      <td>yamnet</td>\n",
       "      <td>NaN</td>\n",
       "      <td>NaN</td>\n",
       "      <td>0.475 ± 0.009</td>\n",
       "      <td>0.122 ± 0.001</td>\n",
       "      <td>0.123</td>\n",
       "    </tr>\n",
       "  </tbody>\n",
       "</table>\n",
       "</div>"
      ],
      "text/plain": [
       "      task         encoder  model  agg       train-AP  validation-AP  test-AP\n",
       "0    frame       clip4clip    NaN  NaN  0.751 ± 0.005   0.273 ± 0.01    0.359\n",
       "1    frame            clip    NaN  NaN  0.743 ± 0.005  0.232 ± 0.009    0.320\n",
       "2    frame        r2plus1d    NaN  NaN  0.768 ± 0.004  0.218 ± 0.007    0.263\n",
       "3    frame  efficientnetb7    NaN  NaN  0.778 ± 0.004   0.284 ± 0.01    0.373\n",
       "4    frame        resnet50    NaN  NaN  0.771 ± 0.006   0.258 ± 0.01    0.342\n",
       "5    frame            swin    NaN  NaN   0.75 ± 0.004  0.255 ± 0.005    0.361\n",
       "6    frame          yamnet    NaN  NaN  0.355 ± 0.016  0.118 ± 0.003    0.097\n",
       "7   motion        r2plus1d    NaN  NaN  0.713 ± 0.007  0.173 ± 0.001    0.217\n",
       "8   motion            swin    NaN  NaN  0.702 ± 0.006  0.143 ± 0.002    0.170\n",
       "9   motion       clip4clip    NaN  NaN  0.704 ± 0.006  0.119 ± 0.001    0.144\n",
       "10  motion        resnet50    NaN  NaN  0.734 ± 0.003  0.119 ± 0.003    0.131\n",
       "11  motion  efficientnetb7    NaN  NaN   0.75 ± 0.006  0.139 ± 0.004    0.132\n",
       "12  motion            clip    NaN  NaN  0.699 ± 0.006  0.112 ± 0.001    0.138\n",
       "13  motion          yamnet    NaN  NaN  0.475 ± 0.009  0.122 ± 0.001    0.123"
      ]
     },
     "execution_count": 156,
     "metadata": {
      "nterop": {
       "id": "181"
      }
     },
     "output_type": "execute_result"
    }
   ],
   "source": [
    "pd.read_csv('experiment2.csv')"
   ]
  }
 ],
 "metadata": {
  "hide_input": false,
  "kernelspec": {
   "display_name": "Python 3 (ipykernel)",
   "language": "python",
   "name": "python3"
  },
  "language_info": {
   "codemirror_mode": {
    "name": "ipython",
    "version": 3
   },
   "file_extension": ".py",
   "mimetype": "text/x-python",
   "name": "python",
   "nbconvert_exporter": "python",
   "pygments_lexer": "ipython3",
   "version": "3.7.12"
  },
  "nterop": {
   "seedId": "181"
  }
 },
 "nbformat": 4,
 "nbformat_minor": 4
}
